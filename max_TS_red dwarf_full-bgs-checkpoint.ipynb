{
 "cells": [
  {
   "cell_type": "code",
   "execution_count": 76,
   "id": "6288f00e",
   "metadata": {},
   "outputs": [],
   "source": [
    "import numpy as np#load ice cube data\n",
    "from scipy.optimize import minimize"
   ]
  },
  {
   "cell_type": "code",
   "execution_count": 77,
   "id": "e7892fd9",
   "metadata": {},
   "outputs": [],
   "source": [
    "files=[\"IC40_exp_new.csv\",\"IC59_exp_new.csv\",\"IC79_exp_new.csv\",\"IC86_I_exp_new.csv\",\"IC86_II_exp_new.csv\", \n",
    "       \"IC86_III_exp_new.csv\",\"IC86_IV_exp_new.csv\",\"IC86_V_exp_new.csv\",\"IC86_VI_exp.csv\",\n",
    "       \"IC86_VII_exp.csv\"]"
   ]
  },
  {
   "cell_type": "code",
   "execution_count": 78,
   "id": "56902698",
   "metadata": {},
   "outputs": [
    {
     "data": {
      "text/plain": [
       "1134431"
      ]
     },
     "execution_count": 78,
     "metadata": {},
     "output_type": "execute_result"
    }
   ],
   "source": [
    "data=np.loadtxt(\"IC40_exp_new.csv\")\n",
    "for name in files[1:]:#indexing the list\n",
    "    da=np.loadtxt(name)\n",
    "    data=np.vstack((data,da))#load everyfile\n",
    "mjd,log10_E,Ang_err,RA,Dec,Azim,Zenith=data.T\n",
    "len(RA)\n",
    "#print(RA[1134430])"
   ]
  },
  {
   "cell_type": "code",
   "execution_count": 79,
   "id": "2efcaeb3",
   "metadata": {},
   "outputs": [
    {
     "name": "stdout",
     "output_type": "stream",
     "text": [
      "[0.48 0.62 0.56 ... 0.3  0.21 0.25]\n"
     ]
    }
   ],
   "source": [
    "fields=[log10_E,RA,Dec,Ang_err]\n",
    "print(Ang_err)\n",
    "iceang=fields[3]"
   ]
  },
  {
   "cell_type": "code",
   "execution_count": 80,
   "id": "3cdc25e2",
   "metadata": {},
   "outputs": [
    {
     "name": "stdout",
     "output_type": "stream",
     "text": [
      "[array([3.31, 5.17, 3.92, ..., 2.88, 2.98, 3.28]), array([203.024,  75.024,  97.501, ..., 308.127, 332.199, 213.309]), array([ 16.76 , -13.371,  11.29 , ...,  42.543,  44.72 ,   4.708]), array([0.48, 0.62, 0.56, ..., 0.3 , 0.21, 0.25])]\n"
     ]
    }
   ],
   "source": [
    "print(fields)"
   ]
  },
  {
   "cell_type": "code",
   "execution_count": 81,
   "id": "fe36b0f6",
   "metadata": {},
   "outputs": [
    {
     "name": "stdout",
     "output_type": "stream",
     "text": [
      "15.832645833333334 62.36551033333333\n",
      "8.122949166666666 67.23587194444444\n",
      "85.10721291666667 24.802184194444447\n",
      "86.46643375 22.879832888888888\n",
      "310.70481083333334 41.38332588888889\n",
      "80.95436 22.54409811111111\n",
      "176.77150958333334 70.03295780555555\n",
      "333.026735 31.561410111111112\n",
      "225.28411026652 22.833927185849998\n",
      "202.9442692396221 29.27685584691611\n"
     ]
    }
   ],
   "source": [
    "def ra_to_degrees(ra_hours, ra_minutes, ra_seconds):# Convert RA from degrees, minutes, seconds to degrees\n",
    "    return (ra_hours * 15) + (ra_minutes / 4) + (ra_seconds / 240)\n",
    "def dec_to_degrees(dec_degrees, dec_minutes, dec_seconds):# Convert Dec from degrees, minutes, seconds to degrees\n",
    "    sign = 1 if dec_degrees >= 0 else -1\n",
    "    return abs(dec_degrees) + (dec_minutes / 60) + (dec_seconds / 3600) * sign\n",
    "\n",
    "\n",
    "v388_Cas_ra=(ra_to_degrees(1,3,19.8350))\n",
    "v388_Cas_dec =(dec_to_degrees(62,21,55.8372)) \n",
    "print(v388_Cas_ra,v388_Cas_dec)\n",
    "\n",
    "v547_Cas_ra=(ra_to_degrees(0,32,29.5078))\n",
    "v547_Cas_dec =(dec_to_degrees(67,14,09.1390)) \n",
    "print(v547_Cas_ra,v547_Cas_dec)\n",
    "\n",
    "v780_Tau_ra=(ra_to_degrees(5, 40, 25.7311))\n",
    "v780_Tau_dec =(dec_to_degrees(24 ,48, 07.8631)) \n",
    "print(v780_Tau_ra,v780_Tau_dec)\n",
    "\n",
    "v962_Tau_ra=(ra_to_degrees(5 ,45, 51.9441))\n",
    "v962_Tau_dec =(dec_to_degrees(22, 52 ,47.3984)) \n",
    "print(v962_Tau_ra,v962_Tau_dec)\n",
    "\n",
    "v1589_Tau_ra=(ra_to_degrees(20, 42, 49.1546))\n",
    "v1589_Tau_dec =(dec_to_degrees(41, 22, 59.9732)) \n",
    "print(v1589_Tau_ra,v1589_Tau_dec)\n",
    "\n",
    "GJ_1078_ra=(ra_to_degrees(5 ,23, 49.0464))\n",
    "GJ_1078_dec =(dec_to_degrees(22 ,32, 38.7532)) \n",
    "print(GJ_1078_ra,GJ_1078_dec)\n",
    "\n",
    "GJ_3684_ra=(ra_to_degrees(11 ,47, 5.1623))\n",
    "GJ_3684_dec =(dec_to_degrees(70, 1, 58.6481)) \n",
    "print(GJ_3684_ra,GJ_3684_dec)\n",
    "\n",
    "GJ_8511_ra=(ra_to_degrees(22, 12, 6.4164))\n",
    "GJ_8511_dec =(dec_to_degrees(31, 33, 41.0764 )) \n",
    "print(GJ_8511_ra,GJ_8511_dec)\n",
    "\n",
    "TVLM_513_46_ra=(ra_to_degrees(15 ,1 ,8.1864639648))\n",
    "TVLM_513_46_dec=(dec_to_degrees(+22 ,50, 02.137869060))\n",
    "print(TVLM_513_46_ra,TVLM_513_46_dec)\n",
    "\n",
    "DG_CVn_ra=(ra_to_degrees(13, 31 ,46.6246175093))\n",
    "DG_CVn_dec=(dec_to_degrees(+29 ,16, 36.681048898))\n",
    "print(DG_CVn_ra,DG_CVn_dec)"
   ]
  },
  {
   "cell_type": "code",
   "execution_count": 82,
   "id": "fc20fadf",
   "metadata": {},
   "outputs": [],
   "source": [
    "RA1=([v388_Cas_ra,v547_Cas_ra,v780_Tau_ra,v962_Tau_ra,v1589_Tau_ra,GJ_1078_ra,GJ_3684_ra,GJ_8511_ra,TVLM_513_46_ra,DG_CVn_ra])\n",
    "dec1=([v388_Cas_dec,v547_Cas_dec,v780_Tau_dec,v962_Tau_dec,v1589_Tau_dec,GJ_1078_dec,GJ_3684_dec,GJ_8511_dec,TVLM_513_46_dec,DG_CVn_dec])\n",
    "#print(RA1)\n",
    "#print(dec1)\n",
    "#for i in range(0,10):\n",
    "   # def decdif()\n",
    "  #  decdif=np.sin(np.radians(red_dec + band)) - np.sin(np.radians(red_dec - band))\n",
    "   # return len(decdif)"
   ]
  },
  {
   "cell_type": "code",
   "execution_count": 156,
   "id": "a57f552e",
   "metadata": {},
   "outputs": [
    {
     "name": "stdout",
     "output_type": "stream",
     "text": [
      "0  |   15.832645833333334  |   62.36551033333333  |   0.06649238756138692  |   38319  |   1279.470744486461  |   4041.859013971219\n",
      "1  |   8.122949166666666  |   67.23587194444444  |   0.06342287684710797  |   30491  |   1467.9277428532293  |   4869.229657170261\n",
      "2  |   85.10721291666667  |   24.802184194444447  |   0.0946357463525443  |   106736  |   764.9375924994657  |   1588.0302224192521\n",
      "3  |   86.46643375  |   22.879832888888888  |   0.0980143282865808  |   112198  |   730.6849703665488  |   1430.3022350064211\n",
      "4  |   310.70481083333334  |   41.38332588888889  |   0.07556219881180055  |   70441  |   907.2842699987721  |   2259.6964945264517\n",
      "5  |   80.95436  |   22.54409811111111  |   0.0984687732418107  |   112995  |   817.2818786848948  |   1799.1593879711895\n",
      "6  |   176.77150958333334  |   70.03295780555555  |   0.06136097277617325  |   26034  |   1652.0872684333922  |   5822.048814323242\n",
      "7  |   333.026735  |   31.561410111111112  |   0.0854376349913148  |   90451  |   775.9764675086626  |   1669.7730958043553\n",
      "8  |   225.28411026652  |   22.833927185849998  |   0.09807118000394997  |   112301  |   759.5706790101724  |   1542.6482335333594\n",
      "9  |   202.9442692396221  |   29.27685584691611  |   0.08854262049763593  |   95959  |   781.6197526315597  |   1709.5804214783354\n",
      "[ 16.76  -13.371  11.29  ...  42.543  44.72    4.708]\n"
     ]
    }
   ],
   "source": [
    "for i in range(0,10):\n",
    "    red_ra=RA1[i]\n",
    "    red_dec=dec1[i]\n",
    "    ice_ra=(fields[1])\n",
    "    ice_dec=(fields[2])\n",
    "    ra_icecube =np.radians(ice_ra)  # RA of IceCube sources\n",
    "    ra_red_dwarf =np.radians (red_ra)  # RA of red dwarfs\n",
    "    dec_icecube = np.radians(ice_dec)  # Dec of IceCube sources\n",
    "    dec_red_dwarf = np.radians(red_dec)\n",
    "    ra_diff=ra_icecube-ra_red_dwarf\n",
    "    Ang_sep=np.arccos(np.sin(dec_icecube)*np.sin(dec_red_dwarf)+np.cos(dec_icecube)*np.cos(dec_red_dwarf)*np.cos(ra_diff))\n",
    "    \n",
    "    def sig( declcut):\n",
    "        decdiff=np.abs(ice_dec-red_dec)\n",
    "        nuind=np.nonzero(decdiff < declcut)\n",
    "        sg=np.radians(iceang[nuind])**2\n",
    "        Ang_sep1=(np.arccos((np.sin(dec_icecube[nuind])*np.sin(dec_red_dwarf)+np.cos(dec_icecube[nuind])*np.cos(dec_red_dwarf)*np.cos(ra_icecube[nuind]-ra_red_dwarf))))**2\n",
    "        return ((np.exp(-1*Ang_sep1/(2*sg)))/(2*np.pi*sg))\n",
    "    def bgs(band,N):\n",
    "        decdiff=np.abs(ice_dec-red_dec)\n",
    "        nuind=np.nonzero(decdiff < declcut)\n",
    "        N=len(nuind[0])\n",
    "        s_ang = N/((1134431*(np.sin(np.radians(red_dec + band)) - np.sin(np.radians(red_dec - band)))*(2 * np.pi)))\n",
    "        return s_ang\n",
    "        #else:\n",
    "            #s_ang =(Ni*(np.sin(np.deg2rad(red_dec + band)) - np.sin(np.deg2rad(red_dec- band))))/Ni\n",
    "            #return s_ang\n",
    "    def P(x,N,S,B):\n",
    "        nsN=x/N\n",
    "        return nsN*S+(1-nsN)*B\n",
    "    def TS(x,N,S,B):\n",
    "        return 2*np.sum(np.log((P(x,N,S,B)/B)))\n",
    "    declcut=5\n",
    "    band=5\n",
    "    B=bgs(band,N)\n",
    "    S =(sig(declcut)) \n",
    "    decdiff=np.abs(ice_dec-red_dec)\n",
    "    nuind=np.nonzero(decdiff < declcut)\n",
    "    N=len(nuind[0])\n",
    "    \n",
    "    #Ni=len(np.nonzero(decdiff < declcut))\n",
    "    def ns_for_TSmax(N,S,B):\n",
    "        declcut=5\n",
    "        band=5\n",
    "        B=bgs(band,N)\n",
    "        S =(sig(declcut)) \n",
    "        nll = lambda x: -TS(x,N,S,B)\n",
    "        soln = minimize(nll,6,bounds=((0,None),))\n",
    "        ns = float(soln.x)\n",
    "        return ns\n",
    "    ns1=ns_for_TSmax(N,S,B)\n",
    "    print(i,red_ra,red_dec,B,N,ns1,TS(ns1,N,S,B),sep=\"  |   \")\n",
    "print(ice_dec)"
   ]
  },
  {
   "cell_type": "code",
   "execution_count": 127,
   "id": "3506ee4d",
   "metadata": {},
   "outputs": [
    {
     "name": "stdout",
     "output_type": "stream",
     "text": [
      "[45.60551033 75.73651033 51.07551033 ... 19.82251033 17.64551033\n",
      " 57.65751033]\n"
     ]
    },
    {
     "data": {
      "text/plain": [
       "38319"
      ]
     },
     "execution_count": 127,
     "metadata": {},
     "output_type": "execute_result"
    }
   ],
   "source": [
    "declcut=5\n",
    "decdiff=np.abs(ice_dec-62.36551033333333)\n",
    "nuind=np.nonzero(decdiff < declcut)\n",
    "print(decdiff)\n",
    "len(decdiff)\n",
    "len(nuind[0])\n",
    "\n",
    "#print(red_dec)"
   ]
  },
  {
   "cell_type": "code",
   "execution_count": 153,
   "id": "bc800489",
   "metadata": {},
   "outputs": [
    {
     "name": "stdout",
     "output_type": "stream",
     "text": [
      "(array([      7,      26,      38, ..., 1134411, 1134427, 1134430],\n",
      "      dtype=int64),)\n"
     ]
    }
   ],
   "source": [
    "decdiff=np.abs(ice_dec)\n",
    "nuind=np.nonzero(decdiff < declcut)\n",
    "sg=np.radians(iceang[nuind])**2\n",
    "print(nuind)\n"
   ]
  },
  {
   "cell_type": "code",
   "execution_count": 44,
   "id": "7236378c",
   "metadata": {},
   "outputs": [
    {
     "name": "stdout",
     "output_type": "stream",
     "text": [
      "39315\n",
      "0.0\n",
      "0.0\n"
     ]
    }
   ],
   "source": [
    "print(ice_dec)"
   ]
  },
  {
   "cell_type": "code",
   "execution_count": null,
   "id": "d8650abd",
   "metadata": {},
   "outputs": [],
   "source": []
  },
  {
   "cell_type": "code",
   "execution_count": null,
   "id": "9210cb8e",
   "metadata": {},
   "outputs": [],
   "source": []
  }
 ],
 "metadata": {
  "kernelspec": {
   "display_name": "Python 3 (ipykernel)",
   "language": "python",
   "name": "python3"
  },
  "language_info": {
   "codemirror_mode": {
    "name": "ipython",
    "version": 3
   },
   "file_extension": ".py",
   "mimetype": "text/x-python",
   "name": "python",
   "nbconvert_exporter": "python",
   "pygments_lexer": "ipython3",
   "version": "3.11.5"
  }
 },
 "nbformat": 4,
 "nbformat_minor": 5
}
