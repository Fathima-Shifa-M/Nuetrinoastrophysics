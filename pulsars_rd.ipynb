{
 "cells": [
  {
   "cell_type": "code",
   "execution_count": 11,
   "id": "1298a58f",
   "metadata": {},
   "outputs": [],
   "source": [
    "import numpy as np#load ice cube data\n",
    "files=[\"IC40_exp.csv\",\"IC59_exp.csv\",\"IC79_exp.csv\",\"IC86_I_exp.csv\",\"IC86_II_exp.csv\", \n",
    "       \"IC86_III_exp.csv\",\"IC86_IV_exp.csv\",\"IC86_V_exp.csv\",\"IC86_VI_exp.csv\",\n",
    "       \"IC86_VII_exp.csv\"]"
   ]
  },
  {
   "cell_type": "code",
   "execution_count": 12,
   "id": "4b88d546",
   "metadata": {},
   "outputs": [],
   "source": [
    "data=np.loadtxt(\"IC40_exp.csv\")\n",
    "for name in files:#indexing the list\n",
    "    da=np.loadtxt(name)\n",
    "    data=np.vstack((data,da))#load everyfile\n",
    "mjd,log10_E,Ang_err,RA,Dec,Azim,Zenith=data.T"
   ]
  },
  {
   "cell_type": "code",
   "execution_count": 13,
   "id": "835666dd",
   "metadata": {},
   "outputs": [
    {
     "name": "stdout",
     "output_type": "stream",
     "text": [
      "[0.48 0.62 0.56 ... 0.3  0.21 0.25]\n"
     ]
    }
   ],
   "source": [
    "fields=[log10_E,RA,Dec,Ang_err]\n",
    "print(Ang_err)\n",
    "iceang=fields[3]"
   ]
  },
  {
   "cell_type": "code",
   "execution_count": 14,
   "id": "602f8fe1",
   "metadata": {},
   "outputs": [
    {
     "name": "stdout",
     "output_type": "stream",
     "text": [
      "[array([3.31, 5.17, 3.92, ..., 2.88, 2.98, 3.28]), array([203.024,  75.024,  97.501, ..., 308.127, 332.199, 213.309]), array([ 16.76 , -13.371,  11.29 , ...,  42.543,  44.72 ,   4.708]), array([0.48, 0.62, 0.56, ..., 0.3 , 0.21, 0.25])]\n"
     ]
    }
   ],
   "source": [
    "print(fields)"
   ]
  },
  {
   "cell_type": "code",
   "execution_count": 15,
   "id": "b808c166",
   "metadata": {},
   "outputs": [
    {
     "name": "stdout",
     "output_type": "stream",
     "text": [
      "282.37 0.62\n"
     ]
    }
   ],
   "source": [
    "J189_0037G_ra=(282.37)\n",
    "J189_0037G_dec=(0.62)\n",
    "print(J189_0037G_ra,J189_0037G_dec)\n"
   ]
  },
  {
   "cell_type": "code",
   "execution_count": 16,
   "id": "788b4567",
   "metadata": {},
   "outputs": [
    {
     "name": "stdout",
     "output_type": "stream",
     "text": [
      "[282.37]\n",
      "[0.62]\n"
     ]
    }
   ],
   "source": [
    "RA_1=np.array([J189_0037G_ra])\n",
    "dec_1=np.array([J189_0037G_dec])\n",
    "print(RA_1)\n",
    "print(dec_1)\n",
    "#dec_11=np.array"
   ]
  },
  {
   "cell_type": "code",
   "execution_count": 17,
   "id": "71f2253f",
   "metadata": {},
   "outputs": [
    {
     "name": "stdout",
     "output_type": "stream",
     "text": [
      "[[282.37]\n",
      " [  0.62]]\n"
     ]
    }
   ],
   "source": [
    "data2=np.array([RA_1,dec_1])#combine both arrays into 1(ra,dec)\n",
    "print(data2)"
   ]
  },
  {
   "cell_type": "code",
   "execution_count": 18,
   "id": "77fbabb9",
   "metadata": {},
   "outputs": [
    {
     "name": "stdout",
     "output_type": "stream",
     "text": [
      "[ 16.76  -13.371  11.29  ...  42.543  44.72    4.708]\n",
      "[282.37]\n",
      "[0.62]\n"
     ]
    },
    {
     "data": {
      "text/plain": [
       "numpy.ndarray"
      ]
     },
     "execution_count": 18,
     "metadata": {},
     "output_type": "execute_result"
    }
   ],
   "source": [
    "ice_ra=(fields[1])\n",
    "ice_dec=(fields[2])\n",
    "red_ra=(RA_1)\n",
    "red_dec=(dec_1)\n",
    "\n",
    "print(ice_dec)\n",
    "print(red_ra)\n",
    "print(red_dec)\n",
    "type(ice_dec)"
   ]
  },
  {
   "cell_type": "code",
   "execution_count": 19,
   "id": "aa455ee9",
   "metadata": {},
   "outputs": [
    {
     "name": "stdout",
     "output_type": "stream",
     "text": [
      "[[203.024  75.024  97.501 ... 308.127 332.199 213.309]] [[282.37 282.37 282.37 ... 282.37 282.37 282.37]]\n"
     ]
    }
   ],
   "source": [
    "icegrid1,redgrid1=np.meshgrid(ice_ra,red_ra)\n",
    "icegrid2,redgrid2=np.meshgrid(ice_dec,red_dec)\n",
    "print(icegrid1,redgrid1)\n",
    "paired_ra = np.vstack([icegrid1.ravel(), redgrid1.ravel()])\n",
    "paired_dec = np.vstack([icegrid2.ravel(), redgrid2.ravel()])"
   ]
  },
  {
   "cell_type": "code",
   "execution_count": 10,
   "id": "648b022c",
   "metadata": {},
   "outputs": [
    {
     "name": "stdout",
     "output_type": "stream",
     "text": [
      "[3.54343726 1.30941582 1.70171347 ... 5.37783066 5.79796632 3.72294437]\n",
      "[4.92828621 4.92828621 4.92828621 ... 4.92828621 4.92828621 4.92828621]\n",
      "[-1.38484895 -3.61887039 -3.22657273 ...  0.44954446  0.86968011\n",
      " -1.20534183]\n",
      "[0.01082104 0.01082104 0.01082104 ... 0.01082104 0.01082104 0.01082104]\n"
     ]
    },
    {
     "data": {
      "text/plain": [
       "1171331"
      ]
     },
     "execution_count": 10,
     "metadata": {},
     "output_type": "execute_result"
    }
   ],
   "source": [
    "ra_icecube =np.deg2rad (paired_ra[0])  # RA of IceCube sources\n",
    "ra_red_dwarf =np.deg2rad (paired_ra[1])  # RA of red dwarfs\n",
    "dec_icecube = np.radians(paired_dec[0])  # Dec of IceCube sources\n",
    "dec_red_dwarf = np.radians(paired_dec[1])\n",
    "print(ra_icecube)\n",
    "print(ra_red_dwarf)\n",
    "ra_diff=np.subtract(ra_icecube,ra_red_dwarf)\n",
    "print(ra_diff)\n",
    "print(dec_red_dwarf)\n",
    "len(dec_red_dwarf)"
   ]
  },
  {
   "cell_type": "code",
   "execution_count": 20,
   "id": "f8103990",
   "metadata": {},
   "outputs": [
    {
     "name": "stdout",
     "output_type": "stream",
     "text": [
      "[1.38967342 0.52240277 0.22437039 ... 0.83544734 1.08609412 1.20570425]\n"
     ]
    }
   ],
   "source": [
    "Ang_sep=np.arccos(np.abs(np.add(np.multiply(np.sin(dec_icecube),np.sin(dec_red_dwarf)),(np.multiply(np.multiply(np.cos(dec_icecube),np.cos(dec_red_dwarf)),np.cos(ra_diff))))))\n",
    "print(Ang_sep)"
   ]
  },
  {
   "cell_type": "code",
   "execution_count": 37,
   "id": "0696b27a",
   "metadata": {},
   "outputs": [
    {
     "name": "stdout",
     "output_type": "stream",
     "text": [
      "(100,)\n",
      "[5.73685673 5.73685673 5.73685673 ... 5.73685673 5.73685673 5.73685673]\n",
      "(157430,)\n",
      "(157430,)\n"
     ]
    }
   ],
   "source": [
    "def sig( declcut):#declcut means declination cutoff in degrees\n",
    "    decdiff=np.abs(np.subtract(ice_dec,red_dec))\n",
    "    nuind=np.nonzero(decdiff < declcut)\n",
    "    sg=np.deg2rad(iceang[nuind])**2\n",
    "    Ang_sep1=np.arccos(np.abs(np.add(np.multiply(np.sin(dec_icecube[nuind]),np.sin(dec_red_dwarf[nuind])),(np.multiply(np.multiply(np.cos(dec_icecube[nuind]),np.cos(dec_red_dwarf[nuind])),np.cos(np.subtract(ra_icecube[nuind],ra_red_dwarf[nuind])))))))**2\n",
    "    return ((np.exp(-1*Ang_sep1/(2*sg)))/(2*np.pi*sg))\n",
    "\n",
    "def bgs(band, twopi = False): \n",
    "\n",
    "    if twopi == True:\n",
    "        s_ang = (np.sin(np.deg2rad(dec_red_dwarf[nuind] + band)) - np.sin(np.deg2rad(dec_red_dwarf[nuind] - band)))*(2 * np.pi)\n",
    "        return 1/s_ang\n",
    "    else:\n",
    "        s_ang = (np.sin(np.deg2rad(dec_red_dwarf[nuind] + band)) - np.sin(np.deg2rad(dec_red_dwarf[nuind] - band)))\n",
    "        return 1/s_ang\n",
    "def P(ns,N,S,B):\n",
    "    nsN=ns/N\n",
    "    return np.add(np.multiply(nsN,S),np.multiply(np.subtract(1,nsN),B))\n",
    "def TS(ns,N,S,B):\n",
    "    return 2*np.sum(np.log((P(ns,N,S,B)/B)))\n",
    "#from scipy.optimize import minimize\n",
    "#def ns_for_TSmax(S, B, N):\n",
    " #   nll = lambda x: -TS(n, S, B, N)\n",
    " #   soln = minimize(nll, 6 ,bounds=((0,None),))\n",
    "  #  ns = float(soln.n)\n",
    "  #  return ns\n",
    "declcut = 5  \n",
    "ns_values = np.linspace(0, 4, 100)\n",
    "ns=ns_values\n",
    "decdiff=np.abs(np.subtract(ice_dec,red_dec))\n",
    "nuind=np.nonzero(decdiff < declcut)\n",
    "N=len(nuind)\n",
    "nsN=ns/N\n",
    "print(nsN.shape)\n",
    "\n",
    "print(bgs(5,twopi=False))\n",
    "#print(sig(5)[1])\n",
    "#no=len(sig(0,5))\n",
    "#print(no)\n",
    "\n",
    "\n",
    "#redno = 0\n",
    "\n",
    "cut=5\n",
    "band = 5\n",
    "\n",
    "\n",
    "S =(sig(5)) \n",
    "print(S.shape)\n",
    "B = bgs(band, twopi=True)\n",
    "print(B.shape)\n",
    "#b=len(dec_red_dwarf[nuind])\n",
    "#print([P(ns,N,S,B)for ns in ns_values])\n",
    "#print([TS(ns,N,S,B)for ns in ns_values]\n",
    "#N=39315\n",
    "#print(N)\n",
    "#print(S.shape)\n",
    "#print(a)"
   ]
  },
  {
   "cell_type": "code",
   "execution_count": 32,
   "id": "ac16df44",
   "metadata": {},
   "outputs": [
    {
     "data": {
      "text/plain": [
       "array([5.45460269e-25, 0.00000000e+00, 0.00000000e+00, ...,\n",
       "       5.63473198e-36, 0.00000000e+00, 0.00000000e+00])"
      ]
     },
     "execution_count": 32,
     "metadata": {},
     "output_type": "execute_result"
    }
   ],
   "source": [
    "sig( 5)"
   ]
  },
  {
   "cell_type": "code",
   "execution_count": 35,
   "id": "8b810c40",
   "metadata": {},
   "outputs": [
    {
     "name": "stdout",
     "output_type": "stream",
     "text": [
      "0.0\n"
     ]
    }
   ],
   "source": [
    "TS_values =(TS(0, N, S, B))\n",
    "print(TS_values)"
   ]
  },
  {
   "cell_type": "code",
   "execution_count": 36,
   "id": "c6828d50",
   "metadata": {},
   "outputs": [
    {
     "name": "stderr",
     "output_type": "stream",
     "text": [
      "C:\\Users\\DELL\\AppData\\Local\\Temp\\ipykernel_9828\\3469160569.py:20: RuntimeWarning: invalid value encountered in log\n",
      "  return 2*np.sum(np.log((P(ns,N,S,B)/B)))\n"
     ]
    },
    {
     "data": {
      "image/png": "[encoded data removed]",
      "text/plain": [
       "<Figure size 640x480 with 1 Axes>"
      ]
     },
     "metadata": {},
     "output_type": "display_data"
    }
   ],
   "source": [
    "#Calculate TS for each value of ns\n",
    "TS_values =( [TS(ns, N, S, B) for ns in ns_values])\n",
    "#print(TS_values)\n",
    "import matplotlib.pyplot  as plt\n",
    "# Plot the TS values\n",
    "plt.plot( ns_values,TS_values)\n",
    "#.text(x=3.5, y=5, s=\"V388 Cas\", fontsize=12, color='black')\n",
    "plt.xlabel(r'$n_s$ (Number of signal events)')\n",
    "plt.ylabel('TS ')\n",
    "plt.grid(True)\n",
    "#plt.title('TS as a function of $n_s$')\n",
    "\n",
    "#filered0 = r'C:\\Users\\DELL\\red_dwarf0_likelyhood.png'\n",
    "#plt.savefig(filered0)\n"
   ]
  },
  {
   "cell_type": "code",
   "execution_count": null,
   "id": "9840b860",
   "metadata": {},
   "outputs": [],
   "source": []
  }
 ],
 "metadata": {
  "kernelspec": {
   "display_name": "Python 3 (ipykernel)",
   "language": "python",
   "name": "python3"
  },
  "language_info": {
   "codemirror_mode": {
    "name": "ipython",
    "version": 3
   },
   "file_extension": ".py",
   "mimetype": "text/x-python",
   "name": "python",
   "nbconvert_exporter": "python",
   "pygments_lexer": "ipython3",
   "version": "3.11.5"
  }
 },
 "nbformat": 4,
 "nbformat_minor": 5
}
