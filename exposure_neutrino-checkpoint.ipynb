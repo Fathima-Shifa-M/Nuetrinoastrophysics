{
 "cells": [
  {
   "cell_type": "code",
   "execution_count": 66,
   "id": "837f1f41",
   "metadata": {},
   "outputs": [],
   "source": [
    "import numpy as np\n",
    "import pandas as pd\n",
    "import matplotlib.pyplot as plt"
   ]
  },
  {
   "cell_type": "code",
   "execution_count": 74,
   "id": "e312d52a",
   "metadata": {},
   "outputs": [],
   "source": [
    "column_namesarea = [\"log10(E_nu/GeV)_min\", \"log10(E_nu/GeV)_max\", \"Dec_nu_min[deg]\", \"Dec_nu_max[deg]\", \"A_Eff[cm^2]\"]\n",
    "dataarea1= pd.read_csv(\"IC40_effectiveArea.csv\", sep=\"\\s+\",  names=column_namesarea, skiprows=1)\n",
    "dataarea2= pd.read_csv(\"IC59_effectiveArea.csv\", sep=\"\\s+\", names=column_namesarea, skiprows=1)\n",
    "dataarea3= pd.read_csv(\"IC79_effectiveArea.csv\", sep=\"\\s+\", names=column_namesarea, skiprows=1)\n",
    "dataarea4= pd.read_csv(\"IC86_I_effectiveArea.csv\", sep=\"\\s+\",  names=column_namesarea, skiprows=1)\n",
    "dataarea5= pd.read_csv(\"IC86_II_effectiveArea.csv\", sep=\"\\s+\",  names=column_namesarea, skiprows=1)\n"
   ]
  },
  {
   "cell_type": "code",
   "execution_count": 75,
   "id": "21543616",
   "metadata": {},
   "outputs": [],
   "source": [
    "dataarea1[\"Dataset\"] = \"IC40\"\n",
    "dataarea2[\"Dataset\"] = \"IC59\"\n",
    "dataarea3[\"Dataset\"] = \"IC79\"\n",
    "dataarea4[\"Dataset\"] = \"IC86_I\"\n",
    "dataarea5[\"Dataset\"] = \"IC86_II\"\n"
   ]
  },
  {
   "cell_type": "code",
   "execution_count": 76,
   "id": "f0ac854a",
   "metadata": {},
   "outputs": [
    {
     "name": "stdout",
     "output_type": "stream",
     "text": [
      "      log10(E_nu/GeV)_min  log10(E_nu/GeV)_max  Dec_nu_min[deg]  \\\n",
      "0                     2.0                  2.2           -90.00   \n",
      "1                     2.2                  2.4           -90.00   \n",
      "2                     2.4                  2.6           -90.00   \n",
      "3                     2.6                  2.8           -90.00   \n",
      "4                     2.8                  3.0           -90.00   \n",
      "...                   ...                  ...              ...   \n",
      "9995                  9.0                  9.2            73.74   \n",
      "9996                  9.2                  9.4            73.74   \n",
      "9997                  9.4                  9.6            73.74   \n",
      "9998                  9.6                  9.8            73.74   \n",
      "9999                  9.8                 10.0            73.74   \n",
      "\n",
      "      Dec_nu_max[deg]  A_Eff[cm^2]  Dataset  \n",
      "0              -73.74          0.0     IC40  \n",
      "1              -73.74          0.0     IC40  \n",
      "2              -73.74          0.0     IC40  \n",
      "3              -73.74          0.0     IC40  \n",
      "4              -73.74          0.0     IC40  \n",
      "...               ...          ...      ...  \n",
      "9995            90.00          0.0  IC86_II  \n",
      "9996            90.00          0.0  IC86_II  \n",
      "9997            90.00          0.0  IC86_II  \n",
      "9998            90.00          0.0  IC86_II  \n",
      "9999            90.00          0.0  IC86_II  \n",
      "\n",
      "[10000 rows x 6 columns]\n"
     ]
    }
   ],
   "source": [
    "dataarea_40_86 = pd.concat([dataarea1, dataarea2, dataarea3, dataarea4, dataarea5], ignore_index=True)\n",
    "print(dataarea_40_86)\n"
   ]
  },
  {
   "cell_type": "code",
   "execution_count": 77,
   "id": "79e5104c",
   "metadata": {},
   "outputs": [
    {
     "name": "stdout",
     "output_type": "stream",
     "text": [
      "      log10(E_nu/GeV)_min  log10(E_nu/GeV)_max  Dec_nu_min[deg]  \\\n",
      "15                    5.0                  5.2           -90.00   \n",
      "55                    5.0                  5.2           -73.74   \n",
      "95                    5.0                  5.2           -66.93   \n",
      "135                   5.0                  5.2           -61.64   \n",
      "175                   5.0                  5.2           -57.14   \n",
      "...                   ...                  ...              ...   \n",
      "9815                  5.0                  5.2            53.13   \n",
      "9855                  5.0                  5.2            57.14   \n",
      "9895                  5.0                  5.2            61.64   \n",
      "9935                  5.0                  5.2            66.93   \n",
      "9975                  5.0                  5.2            73.74   \n",
      "\n",
      "      Dec_nu_max[deg]  A_Eff[cm^2]  Dataset  \n",
      "15             -73.74         0.00     IC40  \n",
      "55             -66.93       126.73     IC40  \n",
      "95             -61.64       344.39     IC40  \n",
      "135            -57.14       139.12     IC40  \n",
      "175            -53.13       388.37     IC40  \n",
      "...               ...          ...      ...  \n",
      "9815            57.14    629593.82  IC86_II  \n",
      "9855            61.64    511701.59  IC86_II  \n",
      "9895            66.93    440061.61  IC86_II  \n",
      "9935            73.74    352658.02  IC86_II  \n",
      "9975            90.00    302150.74  IC86_II  \n",
      "\n",
      "[250 rows x 6 columns]\n"
     ]
    }
   ],
   "source": [
    "area_corr= dataarea_40_86[dataarea_40_86['log10(E_nu/GeV)_min'] == 5]\n",
    "print(area_corr)\n"
   ]
  },
  {
   "cell_type": "code",
   "execution_count": 78,
   "id": "1a3cadfd",
   "metadata": {},
   "outputs": [
    {
     "name": "stdout",
     "output_type": "stream",
     "text": [
      "15           0.00\n",
      "55         126.73\n",
      "95         344.39\n",
      "135        139.12\n",
      "175        388.37\n",
      "          ...    \n",
      "9815    629593.82\n",
      "9855    511701.59\n",
      "9895    440061.61\n",
      "9935    352658.02\n",
      "9975    302150.74\n",
      "Name: A_Eff[cm^2], Length: 250, dtype: float64\n"
     ]
    }
   ],
   "source": [
    "# Extract corresponding values from 'area' column\n",
    "area_values = area_corr['A_Eff[cm^2]']\n",
    "print(area_values )\n"
   ]
  },
  {
   "cell_type": "code",
   "execution_count": 80,
   "id": "75b81641",
   "metadata": {},
   "outputs": [],
   "source": [
    "column_namestime=[\"MJD_start[days]\",\"MJD_stop[days]\"]\n",
    "datatime1= pd.read_csv(\"IC40_exp(1).csv\", sep=\"\\s+\",  names=column_namestime, skiprows=1)\n",
    "datatime2= pd.read_csv(\"IC59_exp.csv\", sep=\"\\s+\", names=column_namestime, skiprows=1)\n",
    "datatime3= pd.read_csv(\"IC79_exp.csv\", sep=\"\\s+\",  names=column_namestime, skiprows=1)\n",
    "datatime4= pd.read_csv(\"IC86_I_exp.csv\", sep=\"\\s+\",  names=column_namestime, skiprows=1)\n",
    "datatime5= pd.read_csv(\"IC86_II_exp.csv\", sep=\"\\s+\",  names=column_namestime, skiprows=1)\n",
    "datatime6= pd.read_csv(\"IC86_III_exp.csv\", sep=\"\\s+\",  names=column_namestime, skiprows=1)\n",
    "datatime7= pd.read_csv(\"IC86_IV_exp.csv\", sep=\"\\s+\",  names=column_namestime, skiprows=1)\n",
    "datatime8= pd.read_csv(\"IC86_V_exp.csv\", sep=\"\\s+\", names=column_namestime, skiprows=1)\n",
    "datatime9= pd.read_csv(\"IC86_VI_exp.csv\", sep=\"\\s+\",  names=column_namestime, skiprows=1)\n",
    "datatime10= pd.read_csv(\"IC86_VII_exp.csv\", sep=\"\\s+\",  names=column_namestime, skiprows=1)"
   ]
  },
  {
   "cell_type": "code",
   "execution_count": 9,
   "id": "777a69aa",
   "metadata": {},
   "outputs": [],
   "source": [
    "datatime1[\"Dataset\"] = \"IC40\"\n",
    "datatime2[\"Dataset\"] = \"IC59\"\n",
    "datatime3[\"Dataset\"] = \"IC79\"\n",
    "datatime4[\"Dataset\"] = \"IC86_I\"\n",
    "datatime5[\"Dataset\"] = \"IC86_II\"\n",
    "datatime6[\"Dataset\"] = \"IC86_III\"\n",
    "datatime7[\"Dataset\"] = \"IC86_IV\"\n",
    "datatime8[\"Dataset\"] = \"IC86_V\"\n",
    "datatime9[\"Dataset\"] = \"IC86_VI\"\n",
    "datatime10[\"Dataset\"] = \"IC86_VII\"\n"
   ]
  },
  {
   "cell_type": "code",
   "execution_count": 38,
   "id": "7fcd2b65",
   "metadata": {},
   "outputs": [
    {
     "name": "stdout",
     "output_type": "stream",
     "text": [
      "        MJD_start[days]  MJD_stop[days]   Dataset\n",
      "0          54562.372031    54562.706262      IC40\n",
      "1          54562.708122    54563.041981      IC40\n",
      "2          54563.045082    54563.378948      IC40\n",
      "3          54563.382765    54563.716857      IC40\n",
      "4          54563.718740    54564.052580      IC40\n",
      "...                 ...             ...       ...\n",
      "138581     58307.976088    58308.309051  IC86_VII\n",
      "138582     58308.309051    58308.642685  IC86_VII\n",
      "138583     58308.642685    58308.963009  IC86_VII\n",
      "138584     58308.964317    58309.020891  IC86_VII\n",
      "138585     58309.024572    58309.082350  IC86_VII\n",
      "\n",
      "[138586 rows x 3 columns]\n"
     ]
    }
   ],
   "source": [
    "datatime_40_86 = pd.concat([datatime1, datatime2, datatime3, datatime4, datatime5, datatime6, datatime7, datatime8, datatime9, datatime10], ignore_index=True)\n",
    "print(datatime_40_86)\n",
    "#datatime_40_86['MJD_start[days]']"
   ]
  },
  {
   "cell_type": "code",
   "execution_count": 58,
   "id": "68cb557e",
   "metadata": {},
   "outputs": [
    {
     "name": "stdout",
     "output_type": "stream",
     "text": [
      "0        -4.714134e+09\n",
      "1        -4.714163e+09\n",
      "2        -4.714193e+09\n",
      "3        -4.714222e+09\n",
      "4        -4.714251e+09\n",
      "              ...     \n",
      "138581   -5.037751e+09\n",
      "138582   -5.037780e+09\n",
      "138583   -5.037808e+09\n",
      "138584   -5.037836e+09\n",
      "138585   -5.037841e+09\n",
      "Name: exposure_time, Length: 138586, dtype: float64\n"
     ]
    }
   ],
   "source": [
    "datatime_40_86['exposure_time']=datatime_40_86['MJD_stop[days]']-datatime_40_86['MJD_start[days]']*86400\n",
    "eff_time=(datatime_40_86['exposure_time'])\n",
    "print(eff_time)"
   ]
  },
  {
   "cell_type": "code",
   "execution_count": 57,
   "id": "658bf3d4",
   "metadata": {},
   "outputs": [
    {
     "name": "stdout",
     "output_type": "stream",
     "text": [
      "15           0.00\n",
      "55         126.73\n",
      "95         344.39\n",
      "135        139.12\n",
      "175        388.37\n",
      "          ...    \n",
      "9815    629593.82\n",
      "9855    511701.59\n",
      "9895    440061.61\n",
      "9935    352658.02\n",
      "9975    302150.74\n",
      "Name: A_Eff[cm^2], Length: 250, dtype: float64\n"
     ]
    }
   ],
   "source": [
    "area_radec=(area_values)\n",
    "print(area_radec)\n"
   ]
  },
  {
   "cell_type": "code",
   "execution_count": null,
   "id": "7882e055",
   "metadata": {},
   "outputs": [],
   "source": []
  },
  {
   "cell_type": "code",
   "execution_count": 73,
   "id": "26f277c5",
   "metadata": {},
   "outputs": [
    {
     "name": "stdout",
     "output_type": "stream",
     "text": [
      "[[-0.00000000e+00 -0.00000000e+00 -0.00000000e+00 ... -0.00000000e+00\n",
      "  -0.00000000e+00 -0.00000000e+00]\n",
      " [-5.97422250e+11 -5.97425930e+11 -5.97429620e+11 ... -6.38441461e+11\n",
      "  -6.38444983e+11 -6.38445642e+11]\n",
      " [-1.62350074e+12 -1.62351074e+12 -1.62352077e+12 ... -1.73497084e+12\n",
      "  -1.73498041e+12 -1.73498220e+12]\n",
      " ...\n",
      " [-2.07450957e+15 -2.07452234e+15 -2.07453516e+15 ... -2.21694608e+15\n",
      "  -2.21695831e+15 -2.21696060e+15]\n",
      " [-1.66247730e+15 -1.66248754e+15 -1.66249780e+15 ... -1.77662354e+15\n",
      "  -1.77663334e+15 -1.77663518e+15]\n",
      " [-1.42437919e+15 -1.42438797e+15 -1.42439676e+15 ... -1.52217754e+15\n",
      "  -1.52218594e+15 -1.52218751e+15]]\n"
     ]
    }
   ],
   "source": [
    "#do matrix multiplication\n",
    "area_mat = area_radec.to_numpy().reshape(-1, 1)  # (250, 1)\n",
    "eff_time_mat = eff_time.to_numpy().reshape(1, -1)  #  (1, 138586)\n",
    "result_mat = area_mat * eff_time_mat\n",
    "print(result_mat)  \n"
   ]
  },
  {
   "cell_type": "code",
   "execution_count": null,
   "id": "b71a3082",
   "metadata": {},
   "outputs": [],
   "source": []
  }
 ],
 "metadata": {
  "kernelspec": {
   "display_name": "Python 3 (ipykernel)",
   "language": "python",
   "name": "python3"
  },
  "language_info": {
   "codemirror_mode": {
    "name": "ipython",
    "version": 3
   },
   "file_extension": ".py",
   "mimetype": "text/x-python",
   "name": "python",
   "nbconvert_exporter": "python",
   "pygments_lexer": "ipython3",
   "version": "3.11.5"
  }
 },
 "nbformat": 4,
 "nbformat_minor": 5
}
