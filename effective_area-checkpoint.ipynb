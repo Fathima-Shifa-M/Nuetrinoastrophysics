{
 "cells": [
  {
   "cell_type": "code",
   "execution_count": 291,
   "id": "837f1f41",
   "metadata": {},
   "outputs": [],
   "source": [
    "import numpy as np\n",
    "import pandas as pd\n",
    "import matplotlib.pyplot as plt"
   ]
  },
  {
   "cell_type": "code",
   "execution_count": 292,
   "id": "e312d52a",
   "metadata": {},
   "outputs": [],
   "source": [
    "column_namesarea = [\"log10(E_nu/GeV)_min\", \"log10(E_nu/GeV)_max\", \"Dec_nu_min[deg]\", \"Dec_nu_max[deg]\", \"A_Eff[cm^2]\"]\n",
    "dataarea1= pd.read_csv(\"IC40_effectiveArea.csv\", sep=\"\\s+\",  names=column_namesarea, skiprows=1)\n",
    "dataarea2= pd.read_csv(\"IC59_effectiveArea.csv\", sep=\"\\s+\", names=column_namesarea, skiprows=1)\n",
    "dataarea3= pd.read_csv(\"IC79_effectiveArea.csv\", sep=\"\\s+\", names=column_namesarea, skiprows=1)\n",
    "dataarea4= pd.read_csv(\"IC86_I_effectiveArea.csv\", sep=\"\\s+\",  names=column_namesarea, skiprows=1)\n",
    "dataarea5= pd.read_csv(\"IC86_II_effectiveArea.csv\", sep=\"\\s+\",  names=column_namesarea, skiprows=1)\n",
    "#print(dataarea4)"
   ]
  },
  {
   "cell_type": "code",
   "execution_count": 293,
   "id": "21543616",
   "metadata": {},
   "outputs": [],
   "source": [
    "dataarea1[\"Dataset\"] = \"IC40\"\n",
    "dataarea2[\"Dataset\"] = \"IC59\"\n",
    "dataarea3[\"Dataset\"] = \"IC79\"\n",
    "dataarea4[\"Dataset\"] = \"IC86_I\"\n",
    "dataarea5[\"Dataset\"] = \"IC86_II\"\n"
   ]
  },
  {
   "cell_type": "code",
   "execution_count": 294,
   "id": "650f264a",
   "metadata": {},
   "outputs": [],
   "source": [
    "log10E1=dataarea1['log10(E_nu/GeV)_min']\n",
    "#print(log10E1)\n",
    "log10E2=dataarea2['log10(E_nu/GeV)_min']\n",
    "log10E3=dataarea3['log10(E_nu/GeV)_min']\n",
    "log10E4=dataarea4['log10(E_nu/GeV)_min']\n",
    "log10E5=dataarea5['log10(E_nu/GeV)_min']\n"
   ]
  },
  {
   "cell_type": "code",
   "execution_count": 295,
   "id": "56778017",
   "metadata": {},
   "outputs": [],
   "source": [
    "area1=dataarea1[\"A_Eff[cm^2]\"]\n",
    "area2=dataarea2[\"A_Eff[cm^2]\"]\n",
    "area3=dataarea3[\"A_Eff[cm^2]\"]\n",
    "area4=dataarea4[\"A_Eff[cm^2]\"]\n",
    "area5=dataarea5[\"A_Eff[cm^2]\"]\n",
    "#print(area4)"
   ]
  },
  {
   "cell_type": "code",
   "execution_count": 296,
   "id": "a836f9b8",
   "metadata": {},
   "outputs": [
    {
     "name": "stdout",
     "output_type": "stream",
     "text": [
      "Datasets are different.\n"
     ]
    }
   ],
   "source": [
    "if area1.equals(area2) and area1.equals(area3) and area1.equals(area4) and area1.equals(area5):\n",
    "    print(\"All datasets are identical.\")\n",
    "else:\n",
    "    print(\"Datasets are different.\")"
   ]
  },
  {
   "cell_type": "code",
   "execution_count": 297,
   "id": "f0ac854a",
   "metadata": {},
   "outputs": [],
   "source": [
    "#dataarea_40_86 = pd.concat([dataarea1, dataarea2, dataarea3, dataarea4, dataarea5], ignore_index=True)\n",
    "#print(dataarea_40_86)\n"
   ]
  },
  {
   "cell_type": "code",
   "execution_count": 298,
   "id": "5e774eae",
   "metadata": {},
   "outputs": [],
   "source": [
    "area_corr1= dataarea1[dataarea1['log10(E_nu/GeV)_min'] == 5]\n",
    "#print(area_corr1)\n",
    "area_corr2= dataarea2[dataarea2['log10(E_nu/GeV)_min'] == 5]\n",
    "area_corr3= dataarea3[dataarea3['log10(E_nu/GeV)_min'] == 5]\n",
    "area_corr4= dataarea4[dataarea4['log10(E_nu/GeV)_min'] == 5]\n",
    "area_corr5= dataarea5[dataarea5['log10(E_nu/GeV)_min'] == 5]\n"
   ]
  },
  {
   "cell_type": "code",
   "execution_count": 299,
   "id": "eab32b1d",
   "metadata": {},
   "outputs": [],
   "source": [
    "# Extract corresponding values from 'area' column\n",
    "area_values1 = area_corr1['A_Eff[cm^2]']\n",
    "#print(area_values1 )\n",
    "area_values2 = area_corr2['A_Eff[cm^2]']\n",
    "area_values3 = area_corr3['A_Eff[cm^2]']\n",
    "area_values4 = area_corr4['A_Eff[cm^2]']\n",
    "area_values5 = area_corr5['A_Eff[cm^2]']\n",
    "logE=area_corr1['log10(E_nu/GeV)_min']\n",
    "#print(logE)\n",
    "#len(logE)"
   ]
  },
  {
   "cell_type": "code",
   "execution_count": 300,
   "id": "b879915c",
   "metadata": {},
   "outputs": [],
   "source": [
    "dec1 = area_corr1['Dec_nu_min[deg]']\n",
    "dec2 = area_corr2['Dec_nu_min[deg]']\n",
    "dec3 = area_corr3['Dec_nu_min[deg]']\n",
    "dec4 = area_corr4['Dec_nu_min[deg]']\n",
    "dec5 = area_corr5['Dec_nu_min[deg]']\n",
    "#print(dec4)"
   ]
  },
  {
   "cell_type": "code",
   "execution_count": 301,
   "id": "cd5644fa",
   "metadata": {},
   "outputs": [
    {
     "name": "stdout",
     "output_type": "stream",
     "text": [
      "All datasets are identical.\n"
     ]
    }
   ],
   "source": [
    "if log10E1.equals(log10E2) and log10E1.equals(log10E3) and log10E1.equals(log10E4) and log10E1.equals(log10E5):\n",
    "    print(\"All datasets are identical.\")\n",
    "else:\n",
    "    print(\"Datasets are different.\")"
   ]
  },
  {
   "cell_type": "code",
   "execution_count": 302,
   "id": "14a206a3",
   "metadata": {},
   "outputs": [
    {
     "name": "stdout",
     "output_type": "stream",
     "text": [
      "All datasets are identical.\n"
     ]
    }
   ],
   "source": [
    "if dec1.equals(dec2) and dec1.equals(dec3) and dec1.equals(dec4) and dec1.equals(dec5):\n",
    "    print(\"All datasets are identical.\")\n",
    "else:\n",
    "    print(\"Datasets are different.\")\n"
   ]
  },
  {
   "cell_type": "code",
   "execution_count": 303,
   "id": "c176f949",
   "metadata": {},
   "outputs": [],
   "source": [
    "dec=area_corr1['Dec_nu_min[deg]']\n",
    "log10E=dataarea1['log10(E_nu/GeV)_min']\n",
    "#print(log10E==5)"
   ]
  },
  {
   "cell_type": "code",
   "execution_count": 304,
   "id": "75b81641",
   "metadata": {},
   "outputs": [],
   "source": [
    "column_namestime=[\"MJD_start[days]\",\"MJD_stop[days]\"]\n",
    "datatime1= pd.read_csv(\"IC40_exp(1).csv\", sep=\"\\s+\",  names=column_namestime, skiprows=1)\n",
    "datatime2= pd.read_csv(\"IC59_exp.csv\", sep=\"\\s+\", names=column_namestime, skiprows=1)\n",
    "datatime3= pd.read_csv(\"IC79_exp.csv\", sep=\"\\s+\",  names=column_namestime, skiprows=1)\n",
    "datatime4= pd.read_csv(\"IC86_I_exp.csv\", sep=\"\\s+\",  names=column_namestime, skiprows=1)\n",
    "datatime5= pd.read_csv(\"IC86_II_exp.csv\", sep=\"\\s+\",  names=column_namestime, skiprows=1)\n",
    "datatime6= pd.read_csv(\"IC86_III_exp.csv\", sep=\"\\s+\",  names=column_namestime, skiprows=1)\n",
    "datatime7= pd.read_csv(\"IC86_IV_exp.csv\", sep=\"\\s+\",  names=column_namestime, skiprows=1)\n",
    "datatime8= pd.read_csv(\"IC86_V_exp.csv\", sep=\"\\s+\", names=column_namestime, skiprows=1)\n",
    "datatime9= pd.read_csv(\"IC86_VI_exp.csv\", sep=\"\\s+\",  names=column_namestime, skiprows=1)\n",
    "datatime10= pd.read_csv(\"IC86_VII_exp.csv\", sep=\"\\s+\",  names=column_namestime, skiprows=1)"
   ]
  },
  {
   "cell_type": "code",
   "execution_count": 305,
   "id": "61bb3d93",
   "metadata": {},
   "outputs": [],
   "source": [
    "#print(datatime2)"
   ]
  },
  {
   "cell_type": "code",
   "execution_count": 306,
   "id": "777a69aa",
   "metadata": {},
   "outputs": [],
   "source": [
    "datatime1[\"Dataset\"] = \"IC40\"\n",
    "datatime2[\"Dataset\"] = \"IC59\"\n",
    "datatime3[\"Dataset\"] = \"IC79\"\n",
    "datatime4[\"Dataset\"] = \"IC86_I\"\n",
    "datatime5[\"Dataset\"] = \"IC86_II\"\n",
    "datatime6[\"Dataset\"] = \"IC86_III\"\n",
    "datatime7[\"Dataset\"] = \"IC86_IV\"\n",
    "datatime8[\"Dataset\"] = \"IC86_V\"\n",
    "datatime9[\"Dataset\"] = \"IC86_VI\"\n",
    "datatime10[\"Dataset\"] = \"IC86_VII\"\n"
   ]
  },
  {
   "cell_type": "code",
   "execution_count": 307,
   "id": "7fcd2b65",
   "metadata": {},
   "outputs": [],
   "source": [
    "#datatime_40_86 = pd.concat([datatime1, datatime2, datatime3, datatime4, datatime5, datatime6, datatime7, datatime8, datatime9, datatime10], ignore_index=True)\n",
    "#print(datatime_40_86)\n"
   ]
  },
  {
   "cell_type": "code",
   "execution_count": 308,
   "id": "f7bde955",
   "metadata": {},
   "outputs": [],
   "source": [
    "#print(datatime1['MJD_start[days]'])\n",
    "#print()"
   ]
  },
  {
   "cell_type": "code",
   "execution_count": 309,
   "id": "68cb557e",
   "metadata": {},
   "outputs": [
    {
     "name": "stdout",
     "output_type": "stream",
     "text": [
      "376.3603109101532\n"
     ]
    }
   ],
   "source": [
    "datatimesum1=np.sum(datatime1['MJD_stop[days]']-datatime1['MJD_start[days]'])\n",
    "datatimesum2=np.sum(datatime2['MJD_stop[days]']-datatime2['MJD_start[days]'])\n",
    "datatimesum3=np.sum(datatime3['MJD_stop[days]']-datatime3['MJD_start[days]'])\n",
    "datatimesum4=np.sum(datatime4['MJD_stop[days]']-datatime4['MJD_start[days]'])\n",
    "datatimesum5=np.sum(datatime5['MJD_stop[days]']-datatime5['MJD_start[days]'])\n",
    "datatimesum6=np.sum(datatime6['MJD_stop[days]']-datatime6['MJD_start[days]'])\n",
    "datatimesum7=np.sum(datatime7['MJD_stop[days]']-datatime7['MJD_start[days]'])\n",
    "datatimesum8=np.sum(datatime8['MJD_stop[days]']-datatime8['MJD_start[days]'])\n",
    "datatimesum9=np.sum(datatime9['MJD_stop[days]']-datatime9['MJD_start[days]'])\n",
    "datatimesum10=np.sum(datatime10['MJD_stop[days]']-datatime10['MJD_start[days]'])\n",
    "print(datatimesum1)"
   ]
  },
  {
   "cell_type": "code",
   "execution_count": 310,
   "id": "55155667",
   "metadata": {},
   "outputs": [],
   "source": [
    "area_radec1=(area_values1)#area will change\n",
    "#print(area_radec3)\n",
    "area_radec2=(area_values2)\n",
    "area_radec3=(area_values3)\n",
    "area_radec4=(area_values4)\n",
    "area_radec5=(area_values5)"
   ]
  },
  {
   "cell_type": "code",
   "execution_count": 311,
   "id": "658bf3d4",
   "metadata": {},
   "outputs": [],
   "source": [
    "a1=datatimesum1*area_radec1\n",
    "a2=datatimesum2*area_radec2\n",
    "a3=datatimesum3*area_radec3\n",
    "a4=datatimesum4*area_radec4\n",
    "a5=datatimesum5*area_radec5\n",
    "a6=datatimesum6*area_radec5\n",
    "a7=datatimesum7*area_radec5\n",
    "a8=datatimesum8*area_radec5\n",
    "a9=datatimesum9*area_radec5\n",
    "a10=datatimesum10*area_radec5\n",
    "a = pd.concat([a1, a2, a3, a4, a5, a6, a7, a8, a9, a10])"
   ]
  },
  {
   "cell_type": "code",
   "execution_count": 312,
   "id": "26f277c5",
   "metadata": {},
   "outputs": [
    {
     "data": {
      "text/plain": [
       "500"
      ]
     },
     "execution_count": 312,
     "metadata": {},
     "output_type": "execute_result"
    }
   ],
   "source": [
    "#print(a)\n",
    "len(a)"
   ]
  },
  {
   "cell_type": "code",
   "execution_count": 313,
   "id": "f5479a49",
   "metadata": {},
   "outputs": [
    {
     "data": {
      "text/plain": [
       "numpy.ndarray"
      ]
     },
     "execution_count": 313,
     "metadata": {},
     "output_type": "execute_result"
    }
   ],
   "source": [
    "source_dec=np.array([72.17,61.75, 57.53 ,45.27 , 66.05,59.87 , 54.29,49.81,47.57,45.86,40.11, 38.15, 28.99, 20.38,19.70 , 16.10,\n",
    "            16.05 , 8.51,8.73, 4.93 ,0.55 ,9.32,21.89,58.87 ,29.53,22.92,20.61,15.97,2.91, 34.33 ,2.95,73.5,-25.02,68.84,\n",
    "            42.3,-26.87,-26.1])\n",
    "type(source_dec)"
   ]
  },
  {
   "cell_type": "code",
   "execution_count": 314,
   "id": "9026f4a4",
   "metadata": {},
   "outputs": [],
   "source": [
    "dec_min=area_corr1['Dec_nu_min[deg]']\n",
    "dec_max=area_corr1['Dec_nu_max[deg]']\n",
    "#print(dec_min,dec_max)"
   ]
  },
  {
   "cell_type": "code",
   "execution_count": 315,
   "id": "7cdefbf8",
   "metadata": {},
   "outputs": [],
   "source": [
    "#mag=np.array(source_dec)\n",
    "decmin=np.array(dec_min)\n",
    "decmax=np.array(dec_max)\n"
   ]
  },
  {
   "cell_type": "code",
   "execution_count": 316,
   "id": "b4535ba9",
   "metadata": {},
   "outputs": [
    {
     "name": "stdout",
     "output_type": "stream",
     "text": [
      "Matching Declination Bins for log10E = 5:\n",
      "[( 72.17,  66.93,  73.74) ( 61.75,  61.64,  66.93)\n",
      " ( 57.53,  57.14,  61.64) ( 45.27,  42.84,  46.05)\n",
      " ( 66.05,  61.64,  66.93) ( 59.87,  57.14,  61.64)\n",
      " ( 54.29,  53.13,  57.14) ( 49.81,  49.46,  53.13)\n",
      " ( 47.57,  46.05,  49.46) ( 45.86,  42.84,  46.05)\n",
      " ( 40.11,  39.79,  42.84) ( 38.15,  36.87,  39.79)\n",
      " ( 28.99,  28.69,  31.33) ( 20.38,  18.66,  21.1 )\n",
      " ( 19.7 ,  18.66,  21.1 ) ( 16.1 ,  13.89,  16.26)\n",
      " ( 16.05,  13.89,  16.26) (  8.51,   6.89,   9.21)\n",
      " (  8.73,   6.89,   9.21) (  4.93,   4.59,   6.89)\n",
      " (  0.55,   0.  ,   2.29) (  9.32,   9.21,  11.54)\n",
      " ( 21.89,  21.1 ,  23.58) ( 58.87,  57.14,  61.64)\n",
      " ( 29.53,  28.69,  31.33) ( 22.92,  21.1 ,  23.58)\n",
      " ( 20.61,  18.66,  21.1 ) ( 15.97,  13.89,  16.26)\n",
      " (  2.91,   2.29,   4.59) ( 34.33,  34.06,  36.87)\n",
      " (  2.95,   2.29,   4.59) ( 73.5 ,  66.93,  73.74)\n",
      " (-25.02, -26.1 , -23.58) ( 68.84,  66.93,  73.74)\n",
      " ( 42.3 ,  39.79,  42.84) (-26.87, -28.69, -26.1 )\n",
      " (-26.1 , -26.1 , -23.58)]\n"
     ]
    }
   ],
   "source": [
    "matched_dec = []\n",
    "for source in source_dec:\n",
    "    mask = (decmin <= source) & (source < decmax)  #condition\n",
    "    \n",
    "    if np.any(mask):  # Ensure at least one match exists\n",
    "        matched_values_min = decmin[mask]\n",
    "        matched_values_max = decmax[mask]\n",
    "        \n",
    "        # Check if matched_values_min and matched_values_max are non-empty\n",
    "        if len(matched_values_min) > 0 and len(matched_values_max) > 0:\n",
    "            matched_dec.append((source, matched_values_min[0], matched_values_max[0]))  # Store corresponding declination bin\n",
    "        else:\n",
    "            print(f\"Warning: No matching values found for source {source}\")\n",
    "# Convert to a structured array for easy printing\n",
    "if matched_dec:\n",
    "    matched_dec = np.array(matched_dec, dtype=[('SourceDec', float), ('DecMin', float), ('DecMax', float)])\n",
    "    print(\"Matching Declination Bins for log10E = 5:\")\n",
    "    print(matched_dec)\n",
    "else:\n",
    "    print(\"No matching declination bins found.\")"
   ]
  },
  {
   "cell_type": "code",
   "execution_count": 317,
   "id": "34e9f26c",
   "metadata": {},
   "outputs": [
    {
     "name": "stdout",
     "output_type": "stream",
     "text": [
      "DecMin values: [ 66.93  61.64  57.14  42.84  61.64  57.14  53.13  49.46  46.05  42.84\n",
      "  39.79  36.87  28.69  18.66  18.66  13.89  13.89   6.89   6.89   4.59\n",
      "   0.     9.21  21.1   57.14  28.69  21.1   18.66  13.89   2.29  34.06\n",
      "   2.29  66.93 -26.1   66.93  39.79 -28.69 -26.1 ]\n",
      "DecMax values: [ 73.74  66.93  61.64  46.05  66.93  61.64  57.14  53.13  49.46  46.05\n",
      "  42.84  39.79  31.33  21.1   21.1   16.26  16.26   9.21   9.21   6.89\n",
      "   2.29  11.54  23.58  61.64  31.33  23.58  21.1   16.26   4.59  36.87\n",
      "   4.59  73.74 -23.58  73.74  42.84 -26.1  -23.58]\n"
     ]
    },
    {
     "data": {
      "text/plain": [
       "37"
      ]
     },
     "execution_count": 317,
     "metadata": {},
     "output_type": "execute_result"
    }
   ],
   "source": [
    "dec_min_values = matched_dec['DecMin']  # Extract DecMin values\n",
    "dec_max_values = matched_dec['DecMax']  # Extract DecMax values\n",
    "\n",
    "print(\"DecMin values:\", dec_min_values)\n",
    "print(\"DecMax values:\", dec_max_values)\n",
    "len(dec_min_values)"
   ]
  },
  {
   "cell_type": "code",
   "execution_count": 326,
   "id": "caecc1eb",
   "metadata": {},
   "outputs": [
    {
     "name": "stdout",
     "output_type": "stream",
     "text": [
      "[ 66.93  61.64  57.14  42.84  61.64  57.14  53.13  49.46  46.05  42.84\n",
      "  39.79  36.87  28.69  18.66  18.66  13.89  13.89   6.89   6.89   4.59\n",
      "   0.     9.21  21.1   57.14  28.69  21.1   18.66  13.89   2.29  34.06\n",
      "   2.29  66.93 -26.1   66.93  39.79 -28.69 -26.1 ]\n",
      "[0.0000000e+00 1.2673000e+02 3.4439000e+02 1.3912000e+02 3.8837000e+02\n",
      " 5.5142000e+02 7.1066000e+02 9.8246000e+02 9.7855000e+02 1.4625900e+03\n",
      " 2.4777700e+03 1.9372700e+03 3.1738700e+03 3.3860100e+03 4.9246300e+03\n",
      " 8.1846600e+03 8.5144700e+03 1.5198060e+04 1.8335030e+04 3.3101050e+04\n",
      " 6.9130460e+04 1.5785411e+05 3.2065305e+05 5.3489665e+05 6.2158610e+05\n",
      " 6.6499322e+05 7.3834737e+05 8.6819049e+05 9.2221565e+05 9.0448268e+05\n",
      " 8.0187327e+05 7.8120686e+05 7.7178375e+05 6.9725356e+05 6.2620116e+05\n",
      " 5.6222581e+05 5.6857681e+05 4.8366270e+05 4.8574579e+05 4.6471525e+05\n",
      " 4.4728806e+05 4.1393237e+05 3.8396464e+05 3.2684128e+05 3.2753056e+05\n",
      " 2.6888506e+05 2.9866820e+05 1.9210835e+05 1.4251134e+05 1.1888179e+05]\n"
     ]
    },
    {
     "data": {
      "text/plain": [
       "50"
      ]
     },
     "execution_count": 326,
     "metadata": {},
     "output_type": "execute_result"
    }
   ],
   "source": [
    "dec_min_values = np.array(dec_min_values )  \n",
    "source_dec = np.array(source_dec)  \n",
    "dec_max_values = np.array(dec_max_values)  \n",
    "log10E = np.array(log10E)  \n",
    "effarea1 = np.array(area_values1)\n",
    "logE_slice = logE[:37] \n",
    "print(dec_min_values)\n",
    "len(dec_min_values)\n",
    "#len(effarea1)\n",
    "#len(logE_slice==5)\n",
    "print(effarea1)\n",
    "len(effarea1)"
   ]
  },
  {
   "cell_type": "code",
   "execution_count": 324,
   "id": "8994091a",
   "metadata": {},
   "outputs": [
    {
     "name": "stdout",
     "output_type": "stream",
     "text": [
      "[0.0000000e+00 1.2673000e+02 3.4439000e+02 1.3912000e+02 3.8837000e+02\n",
      " 5.5142000e+02 7.1066000e+02 9.8246000e+02 9.7855000e+02 1.4625900e+03\n",
      " 2.4777700e+03 1.9372700e+03 3.1738700e+03 3.3860100e+03 4.9246300e+03\n",
      " 8.1846600e+03 8.5144700e+03 1.5198060e+04 1.8335030e+04 3.3101050e+04\n",
      " 6.9130460e+04 1.5785411e+05 3.2065305e+05 5.3489665e+05 6.2158610e+05\n",
      " 6.6499322e+05 7.3834737e+05 8.6819049e+05 9.2221565e+05 9.0448268e+05\n",
      " 8.0187327e+05 7.8120686e+05 7.7178375e+05 6.9725356e+05 6.2620116e+05\n",
      " 5.6222581e+05 5.6857681e+05]\n"
     ]
    },
    {
     "data": {
      "text/plain": [
       "37"
      ]
     },
     "execution_count": 324,
     "metadata": {},
     "output_type": "execute_result"
    }
   ],
   "source": [
    "i = np.where((dec_min_values <= source_dec) & (source_dec < dec_max_values) & (logE_slice==5))  \n",
    "area = effarea1[i]\n",
    "print(area)\n",
    "len(area)"
   ]
  },
  {
   "cell_type": "code",
   "execution_count": null,
   "id": "ae0be335",
   "metadata": {},
   "outputs": [],
   "source": []
  },
  {
   "cell_type": "code",
   "execution_count": null,
   "id": "b6167edb",
   "metadata": {},
   "outputs": [],
   "source": []
  },
  {
   "cell_type": "code",
   "execution_count": null,
   "id": "cab78158",
   "metadata": {},
   "outputs": [],
   "source": []
  },
  {
   "cell_type": "code",
   "execution_count": null,
   "id": "9d62ea67",
   "metadata": {},
   "outputs": [],
   "source": []
  },
  {
   "cell_type": "code",
   "execution_count": null,
   "id": "917d8392",
   "metadata": {},
   "outputs": [],
   "source": []
  },
  {
   "cell_type": "code",
   "execution_count": null,
   "id": "5265ed21",
   "metadata": {},
   "outputs": [],
   "source": []
  },
  {
   "cell_type": "code",
   "execution_count": null,
   "id": "e27c779a",
   "metadata": {},
   "outputs": [],
   "source": []
  },
  {
   "cell_type": "code",
   "execution_count": null,
   "id": "dd82f18d",
   "metadata": {},
   "outputs": [],
   "source": []
  },
  {
   "cell_type": "code",
   "execution_count": null,
   "id": "8e21f265",
   "metadata": {},
   "outputs": [],
   "source": []
  },
  {
   "cell_type": "code",
   "execution_count": null,
   "id": "df9246bc",
   "metadata": {},
   "outputs": [],
   "source": []
  },
  {
   "cell_type": "code",
   "execution_count": null,
   "id": "31cd498d",
   "metadata": {},
   "outputs": [],
   "source": []
  }
 ],
 "metadata": {
  "kernelspec": {
   "display_name": "Python 3 (ipykernel)",
   "language": "python",
   "name": "python3"
  },
  "language_info": {
   "codemirror_mode": {
    "name": "ipython",
    "version": 3
   },
   "file_extension": ".py",
   "mimetype": "text/x-python",
   "name": "python",
   "nbconvert_exporter": "python",
   "pygments_lexer": "ipython3",
   "version": "3.11.5"
  }
 },
 "nbformat": 4,
 "nbformat_minor": 5
}
