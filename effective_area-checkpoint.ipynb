{
 "cells": [
  {
   "cell_type": "code",
   "execution_count": 1,
   "id": "837f1f41",
   "metadata": {},
   "outputs": [],
   "source": [
    "import numpy as np\n",
    "import pandas as pd\n",
    "import matplotlib.pyplot as plt"
   ]
  },
  {
   "cell_type": "code",
   "execution_count": 2,
   "id": "e312d52a",
   "metadata": {},
   "outputs": [],
   "source": [
    "column_namesarea = [\"log10(E_nu/GeV)_min\", \"log10(E_nu/GeV)_max\", \"Dec_nu_min[deg]\", \"Dec_nu_max[deg]\", \"A_Eff[cm^2]\"]\n",
    "dataarea1= pd.read_csv(\"IC40_effectiveArea.csv\", sep=\"\\s+\",  names=column_namesarea, skiprows=1)\n",
    "dataarea2= pd.read_csv(\"IC59_effectiveArea.csv\", sep=\"\\s+\", names=column_namesarea, skiprows=1)\n",
    "dataarea3= pd.read_csv(\"IC79_effectiveArea.csv\", sep=\"\\s+\", names=column_namesarea, skiprows=1)\n",
    "dataarea4= pd.read_csv(\"IC86_I_effectiveArea.csv\", sep=\"\\s+\",  names=column_namesarea, skiprows=1)\n",
    "dataarea5= pd.read_csv(\"IC86_II_effectiveArea.csv\", sep=\"\\s+\",  names=column_namesarea, skiprows=1)\n"
   ]
  },
  {
   "cell_type": "code",
   "execution_count": 3,
   "id": "21543616",
   "metadata": {},
   "outputs": [],
   "source": [
    "dataarea1[\"Dataset\"] = \"IC40\"\n",
    "dataarea2[\"Dataset\"] = \"IC59\"\n",
    "dataarea3[\"Dataset\"] = \"IC79\"\n",
    "dataarea4[\"Dataset\"] = \"IC86_I\"\n",
    "dataarea5[\"Dataset\"] = \"IC86_II\"\n"
   ]
  },
  {
   "cell_type": "code",
   "execution_count": 4,
   "id": "f0ac854a",
   "metadata": {},
   "outputs": [],
   "source": [
    "#dataarea_40_86 = pd.concat([dataarea1, dataarea2, dataarea3, dataarea4, dataarea5], ignore_index=True)\n",
    "#print(dataarea_40_86)\n"
   ]
  },
  {
   "cell_type": "code",
   "execution_count": 5,
   "id": "5e774eae",
   "metadata": {},
   "outputs": [],
   "source": [
    "area_corr1= dataarea1[dataarea1['log10(E_nu/GeV)_min'] == 5]\n",
    "#print(area_corr)\n",
    "area_corr2= dataarea2[dataarea2['log10(E_nu/GeV)_min'] == 5]\n",
    "area_corr3= dataarea3[dataarea3['log10(E_nu/GeV)_min'] == 5]\n",
    "area_corr4= dataarea4[dataarea4['log10(E_nu/GeV)_min'] == 5]\n",
    "area_corr5= dataarea5[dataarea5['log10(E_nu/GeV)_min'] == 5]\n"
   ]
  },
  {
   "cell_type": "code",
   "execution_count": 6,
   "id": "eab32b1d",
   "metadata": {},
   "outputs": [],
   "source": [
    "# Extract corresponding values from 'area' column\n",
    "area_values1 = area_corr1['A_Eff[cm^2]']\n",
    "#print(area_values )\n",
    "area_values2 = area_corr2['A_Eff[cm^2]']\n",
    "area_values3 = area_corr3['A_Eff[cm^2]']\n",
    "area_values4 = area_corr4['A_Eff[cm^2]']\n",
    "area_values5 = area_corr5['A_Eff[cm^2]']\n"
   ]
  },
  {
   "cell_type": "code",
   "execution_count": 44,
   "id": "83a8a609",
   "metadata": {},
   "outputs": [],
   "source": [
    "dec1 = area_corr1['Dec_nu_min[deg]']\n",
    "dec2 = area_corr2['Dec_nu_min[deg]']\n",
    "dec3 = area_corr3['Dec_nu_min[deg]']\n",
    "dec4 = area_corr4['Dec_nu_min[deg]']\n",
    "dec5 = area_corr5['Dec_nu_min[deg]']\n",
    "#print(dec4)"
   ]
  },
  {
   "cell_type": "code",
   "execution_count": 45,
   "id": "1f4360fe",
   "metadata": {},
   "outputs": [
    {
     "name": "stdout",
     "output_type": "stream",
     "text": [
      "All datasets are identical.\n"
     ]
    }
   ],
   "source": [
    "if dec1.equals(dec2) and dec1.equals(dec3) and dec1.equals(dec4) and dec1.equals(dec5):\n",
    "    print(\"All datasets are identical.\")\n",
    "else:\n",
    "    print(\"Datasets are different.\")\n"
   ]
  },
  {
   "cell_type": "code",
   "execution_count": 46,
   "id": "c0280266",
   "metadata": {},
   "outputs": [],
   "source": [
    "dec=area_corr1['Dec_nu_min[deg]']"
   ]
  },
  {
   "cell_type": "code",
   "execution_count": 7,
   "id": "75b81641",
   "metadata": {},
   "outputs": [],
   "source": [
    "column_namestime=[\"MJD_start[days]\",\"MJD_stop[days]\"]\n",
    "datatime1= pd.read_csv(\"IC40_exp(1).csv\", sep=\"\\s+\",  names=column_namestime, skiprows=1)\n",
    "datatime2= pd.read_csv(\"IC59_exp.csv\", sep=\"\\s+\", names=column_namestime, skiprows=1)\n",
    "datatime3= pd.read_csv(\"IC79_exp.csv\", sep=\"\\s+\",  names=column_namestime, skiprows=1)\n",
    "datatime4= pd.read_csv(\"IC86_I_exp.csv\", sep=\"\\s+\",  names=column_namestime, skiprows=1)\n",
    "datatime5= pd.read_csv(\"IC86_II_exp.csv\", sep=\"\\s+\",  names=column_namestime, skiprows=1)\n",
    "datatime6= pd.read_csv(\"IC86_III_exp.csv\", sep=\"\\s+\",  names=column_namestime, skiprows=1)\n",
    "datatime7= pd.read_csv(\"IC86_IV_exp.csv\", sep=\"\\s+\",  names=column_namestime, skiprows=1)\n",
    "datatime8= pd.read_csv(\"IC86_V_exp.csv\", sep=\"\\s+\", names=column_namestime, skiprows=1)\n",
    "datatime9= pd.read_csv(\"IC86_VI_exp.csv\", sep=\"\\s+\",  names=column_namestime, skiprows=1)\n",
    "datatime10= pd.read_csv(\"IC86_VII_exp.csv\", sep=\"\\s+\",  names=column_namestime, skiprows=1)"
   ]
  },
  {
   "cell_type": "code",
   "execution_count": 8,
   "id": "61bb3d93",
   "metadata": {},
   "outputs": [
    {
     "name": "stdout",
     "output_type": "stream",
     "text": [
      "      MJD_start[days]  MJD_stop[days]\n",
      "0        54562.372031    54562.706262\n",
      "1        54562.708122    54563.041981\n",
      "2        54563.045082    54563.378948\n",
      "3        54563.382765    54563.716857\n",
      "4        54563.718740    54564.052580\n",
      "...               ...             ...\n",
      "1415     54970.680226    54970.751153\n",
      "1416     54970.754808    54970.797658\n",
      "1417     54970.798965    54970.973206\n",
      "1418     54971.027611    54971.097413\n",
      "1419     54971.100918    54971.150264\n",
      "\n",
      "[1420 rows x 2 columns]\n"
     ]
    }
   ],
   "source": [
    "print(datatime1)"
   ]
  },
  {
   "cell_type": "code",
   "execution_count": 9,
   "id": "777a69aa",
   "metadata": {},
   "outputs": [],
   "source": [
    "datatime1[\"Dataset\"] = \"IC40\"\n",
    "datatime2[\"Dataset\"] = \"IC59\"\n",
    "datatime3[\"Dataset\"] = \"IC79\"\n",
    "datatime4[\"Dataset\"] = \"IC86_I\"\n",
    "datatime5[\"Dataset\"] = \"IC86_II\"\n",
    "datatime6[\"Dataset\"] = \"IC86_III\"\n",
    "datatime7[\"Dataset\"] = \"IC86_IV\"\n",
    "datatime8[\"Dataset\"] = \"IC86_V\"\n",
    "datatime9[\"Dataset\"] = \"IC86_VI\"\n",
    "datatime10[\"Dataset\"] = \"IC86_VII\"\n"
   ]
  },
  {
   "cell_type": "code",
   "execution_count": 10,
   "id": "7fcd2b65",
   "metadata": {},
   "outputs": [],
   "source": [
    "#datatime_40_86 = pd.concat([datatime1, datatime2, datatime3, datatime4, datatime5, datatime6, datatime7, datatime8, datatime9, datatime10], ignore_index=True)\n",
    "#print(datatime_40_86)\n"
   ]
  },
  {
   "cell_type": "code",
   "execution_count": 11,
   "id": "f7bde955",
   "metadata": {},
   "outputs": [
    {
     "name": "stdout",
     "output_type": "stream",
     "text": [
      "0       54562.372031\n",
      "1       54562.708122\n",
      "2       54563.045082\n",
      "3       54563.382765\n",
      "4       54563.718740\n",
      "            ...     \n",
      "1415    54970.680226\n",
      "1416    54970.754808\n",
      "1417    54970.798965\n",
      "1418    54971.027611\n",
      "1419    54971.100918\n",
      "Name: MJD_start[days], Length: 1420, dtype: float64\n",
      "\n"
     ]
    }
   ],
   "source": [
    "print(datatime1['MJD_start[days]'])\n",
    "print()"
   ]
  },
  {
   "cell_type": "code",
   "execution_count": 16,
   "id": "68cb557e",
   "metadata": {},
   "outputs": [
    {
     "name": "stdout",
     "output_type": "stream",
     "text": [
      "376.3603109101532\n"
     ]
    }
   ],
   "source": [
    "datatimesum1=np.sum(datatime1['MJD_stop[days]']-datatime1['MJD_start[days]'])\n",
    "#eff_time1=(datatime1['exposure_time'])\n",
    "#print(eff_time1)\n",
    "datatimesum2=np.sum(datatime2['MJD_stop[days]']-datatime2['MJD_start[days]'])\n",
    "#eff_time2=(datatime2['exposure_time'])\n",
    "datatimesum3=np.sum(datatime3['MJD_stop[days]']-datatime3['MJD_start[days]'])\n",
    "#eff_time3=(datatime3['exposure_time'])\n",
    "datatimesum4=np.sum(datatime4['MJD_stop[days]']-datatime4['MJD_start[days]'])\n",
    "#eff_time4=(datatime4['exposure_time'])\n",
    "datatimesum5=np.sum(datatime5['MJD_stop[days]']-datatime5['MJD_start[days]'])\n",
    "#eff_time5=(datatime5['exposure_time'])\n",
    "datatimesum6=np.sum(datatime6['MJD_stop[days]']-datatime6['MJD_start[days]'])\n",
    "#eff_time6=(datatime6['exposure_time'])\n",
    "datatimesum7=np.sum(datatime7['MJD_stop[days]']-datatime7['MJD_start[days]'])\n",
    "#eff_time7=(datatime7['exposure_time'])\n",
    "datatimesum8=np.sum(datatime8['MJD_stop[days]']-datatime8['MJD_start[days]'])\n",
    "#eff_time8=(datatime8['exposure_time'])\n",
    "datatimesum9=np.sum(datatime9['MJD_stop[days]']-datatime9['MJD_start[days]'])\n",
    "#eff_time9=(datatime9['exposure_time'])\n",
    "datatimesum10=np.sum(datatime10['MJD_stop[days]']-datatime10['MJD_start[days]'])\n",
    "#eff_time10=(datatime10['exposure_time'])\n",
    "#print(eff_time1)\n",
    "print(datatimesum1)"
   ]
  },
  {
   "cell_type": "code",
   "execution_count": 13,
   "id": "55155667",
   "metadata": {},
   "outputs": [
    {
     "name": "stdout",
     "output_type": "stream",
     "text": [
      "15           0.00\n",
      "55         126.73\n",
      "95         344.39\n",
      "135        139.12\n",
      "175        388.37\n",
      "215        551.42\n",
      "255        710.66\n",
      "295        982.46\n",
      "335        978.55\n",
      "375       1462.59\n",
      "415       2477.77\n",
      "455       1937.27\n",
      "495       3173.87\n",
      "535       3386.01\n",
      "575       4924.63\n",
      "615       8184.66\n",
      "655       8514.47\n",
      "695      15198.06\n",
      "735      18335.03\n",
      "775      33101.05\n",
      "815      69130.46\n",
      "855     157854.11\n",
      "895     320653.05\n",
      "935     534896.65\n",
      "975     621586.10\n",
      "1015    664993.22\n",
      "1055    738347.37\n",
      "1095    868190.49\n",
      "1135    922215.65\n",
      "1175    904482.68\n",
      "1215    801873.27\n",
      "1255    781206.86\n",
      "1295    771783.75\n",
      "1335    697253.56\n",
      "1375    626201.16\n",
      "1415    562225.81\n",
      "1455    568576.81\n",
      "1495    483662.70\n",
      "1535    485745.79\n",
      "1575    464715.25\n",
      "1615    447288.06\n",
      "1655    413932.37\n",
      "1695    383964.64\n",
      "1735    326841.28\n",
      "1775    327530.56\n",
      "1815    268885.06\n",
      "1855    298668.20\n",
      "1895    192108.35\n",
      "1935    142511.34\n",
      "1975    118881.79\n",
      "Name: A_Eff[cm^2], dtype: float64\n"
     ]
    }
   ],
   "source": [
    "area_radec1=(area_values1)\n",
    "print(area_radec1)\n",
    "area_radec2=(area_values2)\n",
    "area_radec3=(area_values3)\n",
    "area_radec4=(area_values4)\n",
    "area_radec5=(area_values5)"
   ]
  },
  {
   "cell_type": "code",
   "execution_count": 27,
   "id": "658bf3d4",
   "metadata": {},
   "outputs": [],
   "source": [
    "a1=datatimesum1*area_radec1\n",
    "a2=datatimesum2*area_radec2\n",
    "a3=datatimesum3*area_radec3\n",
    "a4=datatimesum4*area_radec4\n",
    "a5=datatimesum5*area_radec5\n",
    "a6=datatimesum6*area_radec5\n",
    "a7=datatimesum7*area_radec5\n",
    "a8=datatimesum8*area_radec5\n",
    "a9=datatimesum9*area_radec5\n",
    "a10=datatimesum10*area_radec5\n",
    "a = pd.concat([a1, a2, a3, a4, a5, a6, a7, a8, a9, a10])"
   ]
  },
  {
   "cell_type": "code",
   "execution_count": 29,
   "id": "26f277c5",
   "metadata": {},
   "outputs": [
    {
     "name": "stdout",
     "output_type": "stream",
     "text": [
      "15      0.000000e+00\n",
      "55      4.769614e+04\n",
      "95      1.296147e+05\n",
      "135     5.235925e+04\n",
      "175     1.461671e+05\n",
      "            ...     \n",
      "1815    2.585340e+08\n",
      "1855    2.101232e+08\n",
      "1895    1.807052e+08\n",
      "1935    1.448141e+08\n",
      "1975    1.240740e+08\n",
      "Name: A_Eff[cm^2], Length: 500, dtype: float64\n"
     ]
    },
    {
     "data": {
      "text/plain": [
       "500"
      ]
     },
     "execution_count": 29,
     "metadata": {},
     "output_type": "execute_result"
    }
   ],
   "source": [
    "print(a)\n",
    "len(a)"
   ]
  },
  {
   "cell_type": "code",
   "execution_count": 47,
   "id": "f5479a49",
   "metadata": {},
   "outputs": [],
   "source": [
    "source_dec=[72.17,61.75, 57.53 ,45.27 , 66.05,59.87 , 54.29,49.81,47.57,45.86,40.11, 38.15, 28.99, 20.38,19.70 , 16.10,\n",
    "            16.05 , 8.51,8.73, 4.93 ,0.55 ,9.32,21.89,58.87 ,29.53,22.92,20.61,15.97,2.91, 34.33 ,2.95,73.5,-25.02,68.84,\n",
    "            42.3,-26.87,-26.1]\n",
    "#len(source_dec)"
   ]
  },
  {
   "cell_type": "code",
   "execution_count": 48,
   "id": "9026f4a4",
   "metadata": {},
   "outputs": [
    {
     "name": "stdout",
     "output_type": "stream",
     "text": [
      "15     -90.00\n",
      "55     -73.74\n",
      "95     -66.93\n",
      "135    -61.64\n",
      "175    -57.14\n",
      "215    -53.13\n",
      "255    -49.46\n",
      "295    -46.05\n",
      "335    -42.84\n",
      "375    -39.79\n",
      "415    -36.87\n",
      "455    -34.06\n",
      "495    -31.33\n",
      "535    -28.69\n",
      "575    -26.10\n",
      "615    -23.58\n",
      "655    -21.10\n",
      "695    -18.66\n",
      "735    -16.26\n",
      "775    -13.89\n",
      "815    -11.54\n",
      "855     -9.21\n",
      "895     -6.89\n",
      "935     -4.59\n",
      "975     -2.29\n",
      "1015     0.00\n",
      "1055     2.29\n",
      "1095     4.59\n",
      "1135     6.89\n",
      "1175     9.21\n",
      "1215    11.54\n",
      "1255    13.89\n",
      "1295    16.26\n",
      "1335    18.66\n",
      "1375    21.10\n",
      "1415    23.58\n",
      "1455    26.10\n",
      "1495    28.69\n",
      "1535    31.33\n",
      "1575    34.06\n",
      "1615    36.87\n",
      "1655    39.79\n",
      "1695    42.84\n",
      "1735    46.05\n",
      "1775    49.46\n",
      "1815    53.13\n",
      "1855    57.14\n",
      "1895    61.64\n",
      "1935    66.93\n",
      "1975    73.74\n",
      "Name: Dec_nu_min[deg], dtype: float64\n"
     ]
    }
   ],
   "source": [
    "dec=area_corr1['Dec_nu_min[deg]']\n",
    "print(dec)"
   ]
  },
  {
   "cell_type": "code",
   "execution_count": null,
   "id": "c5d7e855",
   "metadata": {},
   "outputs": [],
   "source": []
  }
 ],
 "metadata": {
  "kernelspec": {
   "display_name": "Python 3 (ipykernel)",
   "language": "python",
   "name": "python3"
  },
  "language_info": {
   "codemirror_mode": {
    "name": "ipython",
    "version": 3
   },
   "file_extension": ".py",
   "mimetype": "text/x-python",
   "name": "python",
   "nbconvert_exporter": "python",
   "pygments_lexer": "ipython3",
   "version": "3.11.5"
  }
 },
 "nbformat": 4,
 "nbformat_minor": 5
}
