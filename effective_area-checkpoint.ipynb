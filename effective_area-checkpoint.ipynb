{
 "cells": [
  {
   "cell_type": "code",
   "execution_count": 1,
   "id": "837f1f41",
   "metadata": {},
   "outputs": [],
   "source": [
    "import numpy as np\n",
    "import pandas as pd\n",
    "import matplotlib.pyplot as plt"
   ]
  },
  {
   "cell_type": "code",
   "execution_count": 2,
   "id": "e312d52a",
   "metadata": {},
   "outputs": [],
   "source": [
    "column_namesarea = [\"log10(E_nu/GeV)_min\", \"log10(E_nu/GeV)_max\", \"Dec_nu_min[deg]\", \"Dec_nu_max[deg]\", \"A_Eff[cm^2]\"]\n",
    "dataarea1= pd.read_csv(\"IC40_effectiveArea.csv\", sep=\"\\s+\",  names=column_namesarea, skiprows=1)\n",
    "dataarea2= pd.read_csv(\"IC59_effectiveArea.csv\", sep=\"\\s+\", names=column_namesarea, skiprows=1)\n",
    "dataarea3= pd.read_csv(\"IC79_effectiveArea.csv\", sep=\"\\s+\", names=column_namesarea, skiprows=1)\n",
    "dataarea4= pd.read_csv(\"IC86_I_effectiveArea.csv\", sep=\"\\s+\",  names=column_namesarea, skiprows=1)\n",
    "dataarea5= pd.read_csv(\"IC86_II_effectiveArea.csv\", sep=\"\\s+\",  names=column_namesarea, skiprows=1)\n"
   ]
  },
  {
   "cell_type": "code",
   "execution_count": 3,
   "id": "21543616",
   "metadata": {},
   "outputs": [],
   "source": [
    "dataarea1[\"Dataset\"] = \"IC40\"\n",
    "dataarea2[\"Dataset\"] = \"IC59\"\n",
    "dataarea3[\"Dataset\"] = \"IC79\"\n",
    "dataarea4[\"Dataset\"] = \"IC86_I\"\n",
    "dataarea5[\"Dataset\"] = \"IC86_II\"\n"
   ]
  },
  {
   "cell_type": "code",
   "execution_count": 10,
   "id": "f0ac854a",
   "metadata": {},
   "outputs": [],
   "source": [
    "#dataarea_40_86 = pd.concat([dataarea1, dataarea2, dataarea3, dataarea4, dataarea5], ignore_index=True)\n",
    "#print(dataarea_40_86)\n"
   ]
  },
  {
   "cell_type": "code",
   "execution_count": 26,
   "id": "5e774eae",
   "metadata": {},
   "outputs": [],
   "source": [
    "area_corr1= dataarea1[dataarea1['log10(E_nu/GeV)_min'] == 5]\n",
    "#print(area_corr)\n",
    "area_corr2= dataarea2[dataarea2['log10(E_nu/GeV)_min'] == 5]\n",
    "area_corr3= dataarea3[dataarea3['log10(E_nu/GeV)_min'] == 5]\n",
    "area_corr4= dataarea4[dataarea4['log10(E_nu/GeV)_min'] == 5]\n",
    "area_corr5= dataarea5[dataarea5['log10(E_nu/GeV)_min'] == 5]\n"
   ]
  },
  {
   "cell_type": "code",
   "execution_count": 27,
   "id": "eab32b1d",
   "metadata": {},
   "outputs": [],
   "source": [
    "# Extract corresponding values from 'area' column\n",
    "area_values1 = area_corr1['A_Eff[cm^2]']\n",
    "#print(area_values )\n",
    "area_values2 = area_corr2['A_Eff[cm^2]']\n",
    "area_values3 = area_corr3['A_Eff[cm^2]']\n",
    "area_values4 = area_corr4['A_Eff[cm^2]']\n",
    "area_values5 = area_corr5['A_Eff[cm^2]']\n"
   ]
  },
  {
   "cell_type": "code",
   "execution_count": 13,
   "id": "75b81641",
   "metadata": {},
   "outputs": [],
   "source": [
    "column_namestime=[\"MJD_start[days]\",\"MJD_stop[days]\"]\n",
    "datatime1= pd.read_csv(\"IC40_exp(1).csv\", sep=\"\\s+\",  names=column_namestime, skiprows=1)\n",
    "datatime2= pd.read_csv(\"IC59_exp.csv\", sep=\"\\s+\", names=column_namestime, skiprows=1)\n",
    "datatime3= pd.read_csv(\"IC79_exp.csv\", sep=\"\\s+\",  names=column_namestime, skiprows=1)\n",
    "datatime4= pd.read_csv(\"IC86_I_exp.csv\", sep=\"\\s+\",  names=column_namestime, skiprows=1)\n",
    "datatime5= pd.read_csv(\"IC86_II_exp.csv\", sep=\"\\s+\",  names=column_namestime, skiprows=1)\n",
    "datatime6= pd.read_csv(\"IC86_III_exp.csv\", sep=\"\\s+\",  names=column_namestime, skiprows=1)\n",
    "datatime7= pd.read_csv(\"IC86_IV_exp.csv\", sep=\"\\s+\",  names=column_namestime, skiprows=1)\n",
    "datatime8= pd.read_csv(\"IC86_V_exp.csv\", sep=\"\\s+\", names=column_namestime, skiprows=1)\n",
    "datatime9= pd.read_csv(\"IC86_VI_exp.csv\", sep=\"\\s+\",  names=column_namestime, skiprows=1)\n",
    "datatime10= pd.read_csv(\"IC86_VII_exp.csv\", sep=\"\\s+\",  names=column_namestime, skiprows=1)"
   ]
  },
  {
   "cell_type": "code",
   "execution_count": 14,
   "id": "777a69aa",
   "metadata": {},
   "outputs": [],
   "source": [
    "datatime1[\"Dataset\"] = \"IC40\"\n",
    "datatime2[\"Dataset\"] = \"IC59\"\n",
    "datatime3[\"Dataset\"] = \"IC79\"\n",
    "datatime4[\"Dataset\"] = \"IC86_I\"\n",
    "datatime5[\"Dataset\"] = \"IC86_II\"\n",
    "datatime6[\"Dataset\"] = \"IC86_III\"\n",
    "datatime7[\"Dataset\"] = \"IC86_IV\"\n",
    "datatime8[\"Dataset\"] = \"IC86_V\"\n",
    "datatime9[\"Dataset\"] = \"IC86_VI\"\n",
    "datatime10[\"Dataset\"] = \"IC86_VII\"\n"
   ]
  },
  {
   "cell_type": "code",
   "execution_count": 9,
   "id": "7fcd2b65",
   "metadata": {},
   "outputs": [
    {
     "name": "stdout",
     "output_type": "stream",
     "text": [
      "        MJD_start[days]  MJD_stop[days]   Dataset\n",
      "0          54562.372031    54562.706262      IC40\n",
      "1          54562.708122    54563.041981      IC40\n",
      "2          54563.045082    54563.378948      IC40\n",
      "3          54563.382765    54563.716857      IC40\n",
      "4          54563.718740    54564.052580      IC40\n",
      "...                 ...             ...       ...\n",
      "138581     58307.976088    58308.309051  IC86_VII\n",
      "138582     58308.309051    58308.642685  IC86_VII\n",
      "138583     58308.642685    58308.963009  IC86_VII\n",
      "138584     58308.964317    58309.020891  IC86_VII\n",
      "138585     58309.024572    58309.082350  IC86_VII\n",
      "\n",
      "[138586 rows x 3 columns]\n"
     ]
    }
   ],
   "source": [
    "#datatime_40_86 = pd.concat([datatime1, datatime2, datatime3, datatime4, datatime5, datatime6, datatime7, datatime8, datatime9, datatime10], ignore_index=True)\n",
    "#print(datatime_40_86)\n"
   ]
  },
  {
   "cell_type": "code",
   "execution_count": 15,
   "id": "f7bde955",
   "metadata": {},
   "outputs": [
    {
     "name": "stdout",
     "output_type": "stream",
     "text": [
      "0       54562.372031\n",
      "1       54562.708122\n",
      "2       54563.045082\n",
      "3       54563.382765\n",
      "4       54563.718740\n",
      "            ...     \n",
      "1415    54970.680226\n",
      "1416    54970.754808\n",
      "1417    54970.798965\n",
      "1418    54971.027611\n",
      "1419    54971.100918\n",
      "Name: MJD_start[days], Length: 1420, dtype: float64\n",
      "\n"
     ]
    }
   ],
   "source": [
    "print(datatime1['MJD_start[days]'])\n",
    "print()"
   ]
  },
  {
   "cell_type": "code",
   "execution_count": 28,
   "id": "68cb557e",
   "metadata": {},
   "outputs": [],
   "source": [
    "datatime1['exposure_time']=(datatime1['MJD_stop[days]']-datatime1['MJD_start[days]'])*86400\n",
    "eff_time1=(datatime1['exposure_time'])\n",
    "#print(eff_time1)\n",
    "datatime2['exposure_time']=(datatime2['MJD_stop[days]']-datatime2['MJD_start[days]'])*86400\n",
    "eff_time2=(datatime2['exposure_time'])\n",
    "datatime3['exposure_time']=(datatime3['MJD_stop[days]']-datatime3['MJD_start[days]'])*86400\n",
    "eff_time3=(datatime3['exposure_time'])\n",
    "datatime4['exposure_time']=(datatime4['MJD_stop[days]']-datatime4['MJD_start[days]'])*86400\n",
    "eff_time4=(datatime4['exposure_time'])\n",
    "datatime5['exposure_time']=(datatime5['MJD_stop[days]']-datatime5['MJD_start[days]'])*86400\n",
    "eff_time5=(datatime5['exposure_time'])\n",
    "datatime6['exposure_time']=(datatime6['MJD_stop[days]']-datatime6['MJD_start[days]'])*86400\n",
    "eff_time6=(datatime6['exposure_time'])\n",
    "datatime7['exposure_time']=(datatime7['MJD_stop[days]']-datatime7['MJD_start[days]'])*86400\n",
    "eff_time7=(datatime7['exposure_time'])\n",
    "datatime8['exposure_time']=(datatime8['MJD_stop[days]']-datatime8['MJD_start[days]'])*86400\n",
    "eff_time8=(datatime8['exposure_time'])\n",
    "datatime9['exposure_time']=(datatime9['MJD_stop[days]']-datatime9['MJD_start[days]'])*86400\n",
    "eff_time9=(datatime9['exposure_time'])\n",
    "datatime10['exposure_time']=(datatime10['MJD_stop[days]']-datatime10['MJD_start[days]'])*86400\n",
    "eff_time10=(datatime10['exposure_time'])\n"
   ]
  },
  {
   "cell_type": "code",
   "execution_count": 29,
   "id": "658bf3d4",
   "metadata": {},
   "outputs": [],
   "source": [
    "area_radec1=(area_values1)\n",
    "#print(area_radec1)\n",
    "area_radec2=(area_values2)\n",
    "area_radec3=(area_values3)\n",
    "area_radec4=(area_values4)\n",
    "area_radec5=(area_values5)\n"
   ]
  },
  {
   "cell_type": "code",
   "execution_count": 30,
   "id": "26f277c5",
   "metadata": {},
   "outputs": [],
   "source": [
    "#do matrix multiplication\n",
    "area_mat1 = area_radec1.to_numpy().reshape(-1, 1)  # (250, 1)\n",
    "eff_time_mat1 = eff_time1.to_numpy().reshape(1, -1)  #  (1, 138586)\n",
    "result_mat1 = area_mat1 * eff_time_mat1\n",
    "#print(result_mat1)  \n",
    "area_mat2 = area_radec2.to_numpy().reshape(-1, 1)  # (250, 1)\n",
    "eff_time_mat2 = eff_time2.to_numpy().reshape(1, -1)  #  (1, 138586)\n",
    "result_mat2 = area_mat2 * eff_time_mat2\n",
    "\n",
    "area_mat3 = area_radec3.to_numpy().reshape(-1, 1)  # (250, 1)\n",
    "eff_time_mat3 = eff_time3.to_numpy().reshape(1, -1)  #  (1, 138586)\n",
    "result_mat3 = area_mat3 * eff_time_mat3\n",
    "\n",
    "area_mat4 = area_radec4.to_numpy().reshape(-1, 1)  # (250, 1)\n",
    "eff_time_mat4 = eff_time4.to_numpy().reshape(1, -1)  #  (1, 138586)\n",
    "result_mat4 = area_mat4 * eff_time_mat4\n",
    "\n",
    "area_mat5 = area_radec5.to_numpy().reshape(-1, 1)  # (250, 1)\n",
    "eff_time_mat5 = eff_time5.to_numpy().reshape(1, -1)  #  (1, 138586)\n",
    "result_mat5 = area_mat5 * eff_time_mat5\n",
    "\n",
    "area_mat6 = area_radec5.to_numpy().reshape(-1, 1)  # (250, 1)\n",
    "eff_time_mat6 = eff_time6.to_numpy().reshape(1, -1)  #  (1, 138586)\n",
    "result_mat6 = area_mat6 * eff_time_mat6\n",
    "\n",
    "area_mat7 = area_radec5.to_numpy().reshape(-1, 1)  # (250, 1)\n",
    "eff_time_mat7 = eff_time7.to_numpy().reshape(1, -1)  #  (1, 138586)\n",
    "result_mat7 = area_mat7 * eff_time_mat7\n",
    "\n",
    "area_mat8 = area_radec5.to_numpy().reshape(-1, 1)  # (250, 1)\n",
    "eff_time_mat8 = eff_time8.to_numpy().reshape(1, -1)  #  (1, 138586)\n",
    "result_mat1 = area_mat8 * eff_time_mat8\n",
    "\n",
    "area_mat9 = area_radec5.to_numpy().reshape(-1, 1)  # (250, 1)\n",
    "eff_time_mat9 = eff_time9.to_numpy().reshape(1, -1)  #  (1, 138586)\n",
    "result_mat9 = area_mat9 * eff_time_mat9\n",
    "\n",
    "area_mat10 = area_radec5.to_numpy().reshape(-1, 1)  # (250, 1)\n",
    "eff_time_mat10 = eff_time10.to_numpy().reshape(1, -1)  #  (1, 138586)\n",
    "result_mat10 = area_mat10 * eff_time_mat10"
   ]
  },
  {
   "cell_type": "code",
   "execution_count": 32,
   "id": "f5479a49",
   "metadata": {},
   "outputs": [
    {
     "name": "stdout",
     "output_type": "stream",
     "text": [
      "[[1.12031953e+09 1.11934610e+09 1.12179916e+09 ... 1.07764365e+09\n",
      "  1.90328182e+08 1.94377705e+08]\n",
      " [4.92666697e+08 4.92238622e+08 4.93317369e+08 ... 4.73899740e+08\n",
      "  8.36978682e+07 8.54786682e+07]\n",
      " [3.26600467e+08 3.26316686e+08 3.27031813e+08 ... 3.14159405e+08\n",
      "  5.54853069e+07 5.66658415e+07]\n",
      " ...\n",
      " [1.26614527e+10 1.26504512e+10 1.26781748e+10 ... 1.21791450e+10\n",
      "  2.15102138e+09 2.19678764e+09]\n",
      " [1.01466766e+10 1.01378602e+10 1.01600774e+10 ... 9.76016324e+09\n",
      "  1.72379258e+09 1.76046890e+09]\n",
      " [8.69348111e+09 8.68592739e+09 8.70496271e+09 ... 8.36232377e+09\n",
      "  1.47691297e+09 1.50833655e+09]]\n"
     ]
    }
   ],
   "source": [
    "print(result_mat10)"
   ]
  },
  {
   "cell_type": "code",
   "execution_count": null,
   "id": "2bb9c7d7",
   "metadata": {},
   "outputs": [],
   "source": []
  }
 ],
 "metadata": {
  "kernelspec": {
   "display_name": "Python 3 (ipykernel)",
   "language": "python",
   "name": "python3"
  },
  "language_info": {
   "codemirror_mode": {
    "name": "ipython",
    "version": 3
   },
   "file_extension": ".py",
   "mimetype": "text/x-python",
   "name": "python",
   "nbconvert_exporter": "python",
   "pygments_lexer": "ipython3",
   "version": "3.11.5"
  }
 },
 "nbformat": 4,
 "nbformat_minor": 5
}
