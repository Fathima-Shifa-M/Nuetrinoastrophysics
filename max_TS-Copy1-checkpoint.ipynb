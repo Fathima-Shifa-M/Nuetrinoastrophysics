{
 "cells": [
  {
   "cell_type": "code",
   "execution_count": 49,
   "id": "5819b56c",
   "metadata": {},
   "outputs": [],
   "source": [
    "import numpy as np#load ice cube data\n",
    "files=[\"IC40_exp.csv\",\"IC59_exp.csv\",\"IC79_exp.csv\",\"IC86_I_exp.csv\",\"IC86_II_exp.csv\", \n",
    "       \"IC86_III_exp.csv\",\"IC86_IV_exp.csv\",\"IC86_V_exp.csv\",\"IC86_VI_exp.csv\",\n",
    "       \"IC86_VII_exp.csv\"]"
   ]
  },
  {
   "cell_type": "code",
   "execution_count": 50,
   "id": "10fee829",
   "metadata": {},
   "outputs": [],
   "source": [
    "data=np.loadtxt(\"IC40_exp.csv\")\n",
    "for name in files:#indexing the list\n",
    "    da=np.loadtxt(name)\n",
    "    data=np.vstack((data,da))#load everyfile\n",
    "mjd,log10_E,Ang_err,RA,Dec,Azim,Zenith=data.T\n",
    "    "
   ]
  },
  {
   "cell_type": "code",
   "execution_count": 51,
   "id": "cc3aef5e",
   "metadata": {},
   "outputs": [
    {
     "name": "stdout",
     "output_type": "stream",
     "text": [
      "[0.48 0.62 0.56 ... 0.3  0.21 0.25]\n"
     ]
    }
   ],
   "source": [
    "fields=[log10_E,RA,Dec,Ang_err]\n",
    "print(Ang_err)\n",
    "iceang=fields[3]"
   ]
  },
  {
   "cell_type": "code",
   "execution_count": 52,
   "id": "6e1f413f",
   "metadata": {},
   "outputs": [
    {
     "name": "stdout",
     "output_type": "stream",
     "text": [
      "[array([3.31, 5.17, 3.92, ..., 2.88, 2.98, 3.28]), array([203.024,  75.024,  97.501, ..., 308.127, 332.199, 213.309]), array([ 16.76 , -13.371,  11.29 , ...,  42.543,  44.72 ,   4.708]), array([0.48, 0.62, 0.56, ..., 0.3 , 0.21, 0.25])]\n"
     ]
    }
   ],
   "source": [
    "print(fields)"
   ]
  },
  {
   "cell_type": "code",
   "execution_count": 53,
   "id": "fab89400",
   "metadata": {},
   "outputs": [
    {
     "name": "stdout",
     "output_type": "stream",
     "text": [
      "15.832645833333334 62.36551033333333\n"
     ]
    }
   ],
   "source": [
    "def ra_to_degrees(ra_hours, ra_minutes, ra_seconds):# Convert RA from degrees, minutes, seconds to degrees\n",
    "    return (ra_hours * 15) + (ra_minutes / 4) + (ra_seconds / 240)\n",
    "def dec_to_degrees(dec_degrees, dec_minutes, dec_seconds):# Convert Dec from degrees, minutes, seconds to degrees\n",
    "    sign = 1 if dec_degrees >= 0 else -1\n",
    "    return abs(dec_degrees) + (dec_minutes / 60) + (dec_seconds / 3600) * sign\n",
    "\n",
    "v388_Cas_ra=(ra_to_degrees(1,3,19.8350))\n",
    "v388_Cas_dec =(dec_to_degrees(62,21,55.8372)) \n",
    "print(v388_Cas_ra,v388_Cas_dec)\n",
    "\n"
   ]
  },
  {
   "cell_type": "code",
   "execution_count": 54,
   "id": "8d050b9d",
   "metadata": {},
   "outputs": [
    {
     "name": "stdout",
     "output_type": "stream",
     "text": [
      "[15.83264583]\n",
      "[62.36551033]\n"
     ]
    }
   ],
   "source": [
    "RA_1=np.array([v388_Cas_ra])\n",
    "dec_1=np.array([v388_Cas_dec])\n",
    "print(RA_1)\n",
    "print(dec_1)\n",
    "#dec_11=np.array(dec_1)\n",
    "#ra_11=np.array(RA_1)\n",
    "#type(RA_1)"
   ]
  },
  {
   "cell_type": "code",
   "execution_count": 55,
   "id": "095492a3",
   "metadata": {},
   "outputs": [
    {
     "name": "stdout",
     "output_type": "stream",
     "text": [
      "[[15.83264583]\n",
      " [62.36551033]]\n"
     ]
    }
   ],
   "source": [
    "data2=np.array([RA_1,dec_1])#combine both arrays into 1(ra,dec)\n",
    "print(data2)\n",
    "#type(data2)"
   ]
  },
  {
   "cell_type": "code",
   "execution_count": 56,
   "id": "feb671c0",
   "metadata": {},
   "outputs": [
    {
     "name": "stdout",
     "output_type": "stream",
     "text": [
      "[ 16.76  -13.371  11.29  ...  42.543  44.72    4.708]\n",
      "[15.83264583]\n",
      "[62.36551033]\n"
     ]
    },
    {
     "data": {
      "text/plain": [
       "numpy.ndarray"
      ]
     },
     "execution_count": 56,
     "metadata": {},
     "output_type": "execute_result"
    }
   ],
   "source": [
    "ice_ra=(fields[1])\n",
    "ice_dec=(fields[2])\n",
    "red_ra=(RA_1)\n",
    "red_dec=(dec_1)\n",
    "\n",
    "print(ice_dec)\n",
    "print(red_ra)\n",
    "print(red_dec)\n",
    "type(ice_dec)"
   ]
  },
  {
   "cell_type": "code",
   "execution_count": 57,
   "id": "18c2cc77",
   "metadata": {},
   "outputs": [
    {
     "name": "stdout",
     "output_type": "stream",
     "text": [
      "[[203.024  75.024  97.501 ... 308.127 332.199 213.309]] [[15.83264583 15.83264583 15.83264583 ... 15.83264583 15.83264583\n",
      "  15.83264583]]\n"
     ]
    }
   ],
   "source": [
    "icegrid1,redgrid1=np.meshgrid(ice_ra,red_ra)\n",
    "icegrid2,redgrid2=np.meshgrid(ice_dec,red_dec)\n",
    "print(icegrid1,redgrid1)\n",
    "paired_ra = np.vstack([icegrid1.ravel(), redgrid1.ravel()])\n",
    "paired_dec = np.vstack([icegrid2.ravel(), redgrid2.ravel()])"
   ]
  },
  {
   "cell_type": "code",
   "execution_count": 58,
   "id": "93be1ad3",
   "metadata": {},
   "outputs": [
    {
     "name": "stdout",
     "output_type": "stream",
     "text": [
      "[3.54343726 1.30941582 1.70171347 ... 5.37783066 5.79796632 3.72294437]\n",
      "[0.2763318 0.2763318 0.2763318 ... 0.2763318 0.2763318 0.2763318]\n",
      "[3.26710546 1.03308402 1.42538167 ... 5.10149887 5.52163452 3.44661258]\n",
      "[1.0884835 1.0884835 1.0884835 ... 1.0884835 1.0884835 1.0884835]\n"
     ]
    },
    {
     "data": {
      "text/plain": [
       "1171331"
      ]
     },
     "execution_count": 58,
     "metadata": {},
     "output_type": "execute_result"
    }
   ],
   "source": [
    "ra_icecube =np.deg2rad (paired_ra[0])  # RA of IceCube sources\n",
    "ra_red_dwarf =np.deg2rad (paired_ra[1])  # RA of red dwarfs\n",
    "dec_icecube = np.radians(paired_dec[0])  # Dec of IceCube sources\n",
    "dec_red_dwarf = np.radians(paired_dec[1])\n",
    "print(ra_icecube)\n",
    "print(ra_red_dwarf)\n",
    "ra_diff=np.subtract(ra_icecube,ra_red_dwarf)\n",
    "print(ra_diff)\n",
    "print(dec_red_dwarf)\n",
    "len(dec_red_dwarf)"
   ]
  },
  {
   "cell_type": "code",
   "execution_count": 59,
   "id": "154b723b",
   "metadata": {},
   "outputs": [
    {
     "name": "stdout",
     "output_type": "stream",
     "text": [
      "[1.38455703 1.54454713 1.32909853 ... 0.75444099 0.53177102 1.19371102]\n"
     ]
    }
   ],
   "source": [
    "Ang_sep=np.arccos(np.abs(np.add(np.multiply(np.sin(dec_icecube),np.sin(dec_red_dwarf)),(np.multiply(np.multiply(np.cos(dec_icecube),np.cos(dec_red_dwarf)),np.cos(ra_diff))))))\n",
    "print(Ang_sep)"
   ]
  },
  {
   "cell_type": "code",
   "execution_count": 77,
   "id": "b7988e1d",
   "metadata": {},
   "outputs": [
    {
     "name": "stdout",
     "output_type": "stream",
     "text": [
      "39315\n",
      "0.0\n"
     ]
    }
   ],
   "source": [
    "def sig( declcut):#declcut means declination cutoff in degrees\n",
    "    decdiff=np.abs(np.subtract(ice_dec,red_dec))\n",
    "    nuind=np.nonzero(decdiff < declcut)\n",
    "    sg=np.deg2rad(iceang[nuind])**2\n",
    "    Ang_sep1=np.arccos(np.abs(np.add(np.multiply(np.sin(dec_icecube[nuind]),np.sin(dec_red_dwarf[nuind])),(np.multiply(np.multiply(np.cos(dec_icecube[nuind]),np.cos(dec_red_dwarf[nuind])),np.cos(np.subtract(ra_icecube[nuind],ra_red_dwarf[nuind])))))))**2\n",
    "    return ((np.exp(-1*Ang_sep1/(2*sg)))/(2*np.pi*sg))\n",
    "\n",
    "def bgs(band, twopi = True): \n",
    "\n",
    "    if twopi == True:\n",
    "        s_ang = (np.sin(np.deg2rad(red_dec + band)) - np.sin(np.deg2rad(red_dec - band)))*(2 * np.pi)\n",
    "        return 1/s_ang\n",
    "    else:\n",
    "        s_ang = (np.sin(np.deg2rad(red_dec + band)) - np.sin(np.deg2rad(red_dec- band)))\n",
    "        return 1/s_ang\n",
    "def P(x,N,S,B):\n",
    "    nsN=x/N\n",
    "    return np.add(np.multiply(nsN,S),np.multiply(np.subtract(1,nsN),B))\n",
    "def TS(x,N,S,B):\n",
    "    return 2*np.sum(np.log((P(x,N,S,B)/B)))\n",
    "decdiff=np.abs(np.subtract(ice_dec,red_dec))\n",
    "nuind=np.nonzero(decdiff < declcut)\n",
    "N=len(nuind[0])\n",
    "print(N)\n",
    "\n",
    "from scipy.optimize import minimize\n",
    "def ns_for_TSmax(S, B, N):\n",
    "    declcut=5\n",
    "    band=5\n",
    "    B=bgs(band,twopi=True)\n",
    "    S =(sig(declcut)) \n",
    "    nll = lambda x: -TS(x,N,S,B)\n",
    "    soln = minimize(nll,6,bounds=((0,None),))\n",
    "    ns = float(soln.x)\n",
    "    return ns\n",
    "\n",
    "\n",
    "print(ns_for_TSmax(S, B, N))\n"
   ]
  },
  {
   "cell_type": "code",
   "execution_count": 64,
   "id": "56a58666",
   "metadata": {},
   "outputs": [],
   "source": [
    "#print(bgs(5,twopi=True))\n",
    "#print(sig(5)[1])\n",
    "#no=len(sig(0,5))\n",
    "#print(no)\n",
    "#ns_values = np.linspace(0, 4, 100)\n",
    "#x=ns_values\n",
    "\n",
    "#redno = 0\n",
    "#declcut = 5  \n",
    "#cut=5\n",
    "#band = 5\n",
    "\n",
    "\n",
    "#S =(sig(declcut)) \n",
    "#print(S.shape)\n",
    "#B = bgs(band, twopi=True)\n",
    "\n",
    "#print(B.shape)\n",
    "#b=len(dec_red_dwarf[nuind])\n",
    "#print([P(ns,N,S,B)for ns in ns_values])\n",
    "#print([TS(ns,N,S,B)for ns in ns_values]\n",
    "#N=39315\n",
    "#print(N)\n",
    "#print(S.shape)\n",
    "#print(a)"
   ]
  },
  {
   "cell_type": "code",
   "execution_count": 74,
   "id": "2083db52",
   "metadata": {},
   "outputs": [
    {
     "ename": "SyntaxError",
     "evalue": "(unicode error) 'unicodeescape' codec can't decode bytes in position 391-392: truncated \\UXXXXXXXX escape (2554618091.py, line 16)",
     "output_type": "error",
     "traceback": [
      "\u001b[1;36m  Cell \u001b[1;32mIn[74], line 16\u001b[1;36m\u001b[0m\n\u001b[1;33m    \"\"\"\u001b[0m\n\u001b[1;37m       ^\u001b[0m\n\u001b[1;31mSyntaxError\u001b[0m\u001b[1;31m:\u001b[0m (unicode error) 'unicodeescape' codec can't decode bytes in position 391-392: truncated \\UXXXXXXXX escape\n"
     ]
    }
   ],
   "source": [
    "\"\"\"\n",
    "#Calculate TS for each value of ns\n",
    "TS_values =( [TS(ns, N, S, B) for ns in ns_values])\n",
    "#print(TS_values)\n",
    "import matplotlib.pyplot  as plt\n",
    "# Plot the TS values\n",
    "plt.plot( ns_values,TS_values)\n",
    "#plt.text(x=3.5, y=5, s=\"V388 Cas\", fontsize=12, color='black')\n",
    "plt.xlabel(r'$n_s$ (Number of signal events)')\n",
    "plt.ylabel('TS ')\n",
    "plt.grid(True)\n",
    "#plt.title('TS as a function of $n_s$')\n",
    "\n",
    "filered0 = r'C:\\Users\\DELL\\red_dwarf0_likelyhood.png'\n",
    "plt.savefig(filered0)\n",
    "\"\"\""
   ]
  },
  {
   "cell_type": "code",
   "execution_count": null,
   "id": "db632925",
   "metadata": {},
   "outputs": [],
   "source": [
    "\n"
   ]
  },
  {
   "cell_type": "code",
   "execution_count": null,
   "id": "6274b058",
   "metadata": {},
   "outputs": [],
   "source": []
  },
  {
   "cell_type": "code",
   "execution_count": null,
   "id": "5f758194",
   "metadata": {},
   "outputs": [],
   "source": []
  },
  {
   "cell_type": "code",
   "execution_count": null,
   "id": "1a887ba1",
   "metadata": {},
   "outputs": [],
   "source": []
  },
  {
   "cell_type": "code",
   "execution_count": null,
   "id": "19ea873f",
   "metadata": {},
   "outputs": [],
   "source": []
  }
 ],
 "metadata": {
  "kernelspec": {
   "display_name": "Python 3 (ipykernel)",
   "language": "python",
   "name": "python3"
  },
  "language_info": {
   "codemirror_mode": {
    "name": "ipython",
    "version": 3
   },
   "file_extension": ".py",
   "mimetype": "text/x-python",
   "name": "python",
   "nbconvert_exporter": "python",
   "pygments_lexer": "ipython3",
   "version": "3.11.5"
  }
 },
 "nbformat": 4,
 "nbformat_minor": 5
}
