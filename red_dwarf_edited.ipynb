{
 "cells": [
  {
   "cell_type": "code",
   "execution_count": 26,
   "id": "e0184297",
   "metadata": {},
   "outputs": [],
   "source": [
    "import numpy as np#load ice cube data\n",
    "files=[\"IC40_exp.csv\",\"IC59_exp.csv\",\"IC79_exp.csv\",\"IC86_I_exp.csv\",\"IC86_II_exp.csv\", \n",
    "       \"IC86_III_exp.csv\",\"IC86_IV_exp.csv\",\"IC86_V_exp.csv\",\"IC86_VI_exp.csv\",\n",
    "       \"IC86_VII_exp.csv\"]"
   ]
  },
  {
   "cell_type": "code",
   "execution_count": 27,
   "id": "68542c52",
   "metadata": {},
   "outputs": [],
   "source": [
    "data=np.loadtxt(\"IC40_exp.csv\")\n",
    "for name in files:#indexing the list\n",
    "    da=np.loadtxt(name)\n",
    "    data=np.vstack((data,da))#load everyfile\n",
    "mjd,log10_E,Ang_err,RA,Dec,Azim,Zenith=data.T\n",
    "    "
   ]
  },
  {
   "cell_type": "code",
   "execution_count": 28,
   "id": "52c11c34",
   "metadata": {},
   "outputs": [
    {
     "name": "stdout",
     "output_type": "stream",
     "text": [
      "[0.48 0.62 0.56 ... 0.3  0.21 0.25]\n"
     ]
    }
   ],
   "source": [
    "fields=[log10_E,RA,Dec,Ang_err]\n",
    "print(Ang_err)\n",
    "iceang=fields[3]"
   ]
  },
  {
   "cell_type": "code",
   "execution_count": 29,
   "id": "5d2e153a",
   "metadata": {
    "scrolled": true
   },
   "outputs": [
    {
     "name": "stdout",
     "output_type": "stream",
     "text": [
      "[array([3.31, 5.17, 3.92, ..., 2.88, 2.98, 3.28]), array([203.024,  75.024,  97.501, ..., 308.127, 332.199, 213.309]), array([ 16.76 , -13.371,  11.29 , ...,  42.543,  44.72 ,   4.708]), array([0.48, 0.62, 0.56, ..., 0.3 , 0.21, 0.25])]\n"
     ]
    }
   ],
   "source": [
    "print(fields)"
   ]
  },
  {
   "cell_type": "code",
   "execution_count": 30,
   "id": "832c34a3",
   "metadata": {},
   "outputs": [
    {
     "name": "stdout",
     "output_type": "stream",
     "text": [
      "15.832645833333334 62.36551033333333\n"
     ]
    },
    {
     "data": {
      "text/plain": [
       "'\\nv547_Cas_ra=(ra_to_degrees(0,32,29.5078))\\nv547_Cas_dec =(dec_to_degrees(67,14,09.1390)) \\nprint(v547_Cas_ra,v547_Cas_dec)\\n\\nv780_Tau_ra=(ra_to_degrees(5, 40, 25.7311))\\nv780_Tau_dec =(dec_to_degrees(24 ,48, 07.8631)) \\nprint(v780_Tau_ra,v780_Tau_dec)\\n\\nv962_Tau_ra=(ra_to_degrees(5 ,45, 51.9441))\\nv962_Tau_dec =(dec_to_degrees(22, 52 ,47.3984)) \\nprint(v962_Tau_ra,v962_Tau_dec)\\n\\nv1589_Tau_ra=(ra_to_degrees(20, 42, 49.1546))\\nv1589_Tau_dec =(dec_to_degrees(41, 22, 59.9732)) \\nprint(v1589_Tau_ra,v1589_Tau_dec)\\n\\nGJ_1078_ra=(ra_to_degrees(5 ,23, 49.0464))\\nGJ_1078_dec =(dec_to_degrees(22 ,32, 38.7532)) \\nprint(GJ_1078_ra,GJ_1078_dec)\\n\\nGJ_3684_ra=(ra_to_degrees(11 ,47, 5.1623))\\nGJ_3684_dec =(dec_to_degrees(70, 1, 58.6481)) \\nprint(GJ_3684_ra,GJ_3684_dec)\\n\\nGJ_8511_ra=(ra_to_degrees(22, 12, 6.4164))\\nGJ_8511_dec =(dec_to_degrees(31, 33, 41.0764 )) \\nprint(GJ_8511_ra,GJ_8511_dec)\\n\\n'"
      ]
     },
     "execution_count": 30,
     "metadata": {},
     "output_type": "execute_result"
    }
   ],
   "source": [
    "def ra_to_degrees(ra_hours, ra_minutes, ra_seconds):# Convert RA from degrees, minutes, seconds to degrees\n",
    "    return (ra_hours * 15) + (ra_minutes / 4) + (ra_seconds / 240)\n",
    "def dec_to_degrees(dec_degrees, dec_minutes, dec_seconds):# Convert Dec from degrees, minutes, seconds to degrees\n",
    "    sign = 1 if dec_degrees >= 0 else -1\n",
    "    return abs(dec_degrees) + (dec_minutes / 60) + (dec_seconds / 3600) * sign\n",
    "\n",
    "v388_Cas_ra=(ra_to_degrees(1,3,19.8350))\n",
    "v388_Cas_dec =(dec_to_degrees(62,21,55.8372)) \n",
    "print(v388_Cas_ra,v388_Cas_dec)\n",
    "\n",
    "\"\"\"\n",
    "v547_Cas_ra=(ra_to_degrees(0,32,29.5078))\n",
    "v547_Cas_dec =(dec_to_degrees(67,14,09.1390)) \n",
    "print(v547_Cas_ra,v547_Cas_dec)\n",
    "\n",
    "v780_Tau_ra=(ra_to_degrees(5, 40, 25.7311))\n",
    "v780_Tau_dec =(dec_to_degrees(24 ,48, 07.8631)) \n",
    "print(v780_Tau_ra,v780_Tau_dec)\n",
    "\n",
    "v962_Tau_ra=(ra_to_degrees(5 ,45, 51.9441))\n",
    "v962_Tau_dec =(dec_to_degrees(22, 52 ,47.3984)) \n",
    "print(v962_Tau_ra,v962_Tau_dec)\n",
    "\n",
    "v1589_Tau_ra=(ra_to_degrees(20, 42, 49.1546))\n",
    "v1589_Tau_dec =(dec_to_degrees(41, 22, 59.9732)) \n",
    "print(v1589_Tau_ra,v1589_Tau_dec)\n",
    "\n",
    "GJ_1078_ra=(ra_to_degrees(5 ,23, 49.0464))\n",
    "GJ_1078_dec =(dec_to_degrees(22 ,32, 38.7532)) \n",
    "print(GJ_1078_ra,GJ_1078_dec)\n",
    "\n",
    "GJ_3684_ra=(ra_to_degrees(11 ,47, 5.1623))\n",
    "GJ_3684_dec =(dec_to_degrees(70, 1, 58.6481)) \n",
    "print(GJ_3684_ra,GJ_3684_dec)\n",
    "\n",
    "GJ_8511_ra=(ra_to_degrees(22, 12, 6.4164))\n",
    "GJ_8511_dec =(dec_to_degrees(31, 33, 41.0764 )) \n",
    "print(GJ_8511_ra,GJ_8511_dec)\n",
    "\n",
    "\"\"\""
   ]
  },
  {
   "cell_type": "code",
   "execution_count": 31,
   "id": "c8b1c518",
   "metadata": {},
   "outputs": [
    {
     "name": "stdout",
     "output_type": "stream",
     "text": [
      "[15.83264583]\n",
      "[62.36551033]\n"
     ]
    }
   ],
   "source": [
    "RA_1=np.array([v388_Cas_ra])\n",
    "dec_1=np.array([v388_Cas_dec])\n",
    "print(RA_1)\n",
    "print(dec_1)\n",
    "#dec_11=np.array(dec_1)\n",
    "#ra_11=np.array(RA_1)\n",
    "#type(RA_1)"
   ]
  },
  {
   "cell_type": "code",
   "execution_count": 32,
   "id": "3e4fd820",
   "metadata": {},
   "outputs": [
    {
     "name": "stdout",
     "output_type": "stream",
     "text": [
      "[[15.83264583]\n",
      " [62.36551033]]\n"
     ]
    }
   ],
   "source": [
    "data2=np.array([RA_1,dec_1])#combine both arrays into 1(ra,dec)\n",
    "print(data2)\n",
    "#type(data2)"
   ]
  },
  {
   "cell_type": "code",
   "execution_count": 33,
   "id": "cfb05eb3",
   "metadata": {},
   "outputs": [
    {
     "name": "stdout",
     "output_type": "stream",
     "text": [
      "[ 16.76  -13.371  11.29  ...  42.543  44.72    4.708]\n",
      "[15.83264583]\n",
      "[62.36551033]\n"
     ]
    },
    {
     "data": {
      "text/plain": [
       "numpy.ndarray"
      ]
     },
     "execution_count": 33,
     "metadata": {},
     "output_type": "execute_result"
    }
   ],
   "source": [
    "ice_ra=(fields[1])\n",
    "ice_dec=(fields[2])\n",
    "red_ra=(RA_1)\n",
    "red_dec=(dec_1)\n",
    "\n",
    "print(ice_dec)\n",
    "print(red_ra)\n",
    "print(red_dec)\n",
    "type(ice_dec)"
   ]
  },
  {
   "cell_type": "code",
   "execution_count": 34,
   "id": "0d197136",
   "metadata": {},
   "outputs": [
    {
     "name": "stdout",
     "output_type": "stream",
     "text": [
      "[[203.024  75.024  97.501 ... 308.127 332.199 213.309]] [[15.83264583 15.83264583 15.83264583 ... 15.83264583 15.83264583\n",
      "  15.83264583]]\n",
      "[[203.024  75.024  97.501 ... 308.127 332.199 213.309]]\n",
      "[[15.83264583 15.83264583 15.83264583 ... 15.83264583 15.83264583\n",
      "  15.83264583]]\n",
      "[15.83264583 15.83264583 15.83264583 ... 15.83264583 15.83264583\n",
      " 15.83264583]\n"
     ]
    }
   ],
   "source": [
    "icegrid1,redgrid1=np.meshgrid(ice_ra,red_ra)\n",
    "icegrid2,redgrid2=np.meshgrid(ice_dec,red_dec)\n",
    "print(icegrid1,redgrid1)\n",
    "paired_ra = np.vstack([icegrid1.ravel(), redgrid1.ravel()])\n",
    "paired_dec = np.vstack([icegrid2.ravel(), redgrid2.ravel()])\n",
    "print(icegrid1)\n",
    "print(redgrid1)\n",
    "print(paired_ra[1])"
   ]
  },
  {
   "cell_type": "code",
   "execution_count": 90,
   "id": "3d29faa0",
   "metadata": {},
   "outputs": [
    {
     "name": "stdout",
     "output_type": "stream",
     "text": [
      "[3.54343726 1.30941582 1.70171347 ... 5.37783066 5.79796632 3.72294437]\n",
      "[0.2763318 0.2763318 0.2763318 ... 0.2763318 0.2763318 0.2763318]\n",
      "[3.26710546 1.03308402 1.42538167 ... 5.10149887 5.52163452 3.44661258]\n",
      "[15.83264583]\n",
      "[62.36551033 62.36551033 62.36551033 ... 62.36551033 62.36551033\n",
      " 62.36551033]\n"
     ]
    }
   ],
   "source": [
    "ra_icecube =np.deg2rad (paired_ra[0])  # RA of IceCube sources\n",
    "ra_red_dwarf =np.deg2rad (paired_ra[1])  # RA of red dwarfs\n",
    "dec_icecube = np.radians(paired_dec[0])  # Dec of IceCube sources\n",
    "dec_red_dwarf = np.radians(paired_dec[1])\n",
    "print(ra_icecube)\n",
    "print(ra_red_dwarf)\n",
    "ra_diff=np.subtract(ra_icecube,ra_red_dwarf)\n",
    "print(ra_diff)\n",
    "print(red_ra)\n",
    "dec_red_dwarf1=paired_dec[1]\n",
    "print(dec_red_dwarf1)"
   ]
  },
  {
   "cell_type": "code",
   "execution_count": 36,
   "id": "680251e5",
   "metadata": {},
   "outputs": [
    {
     "name": "stdout",
     "output_type": "stream",
     "text": [
      "[1.38455703 1.54454713 1.32909853 ... 0.75444099 0.53177102 1.19371102]\n"
     ]
    }
   ],
   "source": [
    "Ang_sep=np.arccos(np.abs(np.add(np.multiply(np.sin(dec_icecube),np.sin(dec_red_dwarf)),(np.multiply(np.multiply(np.cos(dec_icecube),np.cos(dec_red_dwarf)),np.cos(ra_diff))))))\n",
    "print(Ang_sep)"
   ]
  },
  {
   "cell_type": "code",
   "execution_count": 100,
   "id": "87d28d3e",
   "metadata": {},
   "outputs": [
    {
     "name": "stdout",
     "output_type": "stream",
     "text": [
      "[0.65075532 1.40199129 0.63144707 ... 1.16463517 1.19271744 1.22159552]\n",
      "(array([3.13460449e-184, 0.00000000e+000, 0.00000000e+000, ...,\n",
      "       2.31023487e-056, 0.00000000e+000, 0.00000000e+000]), 39315)\n",
      "[1.96850194 1.96850194 1.96850194 ... 1.96850194 1.96850194 1.96850194]\n"
     ]
    },
    {
     "ename": "ValueError",
     "evalue": "setting an array element with a sequence. The requested array has an inhomogeneous shape after 1 dimensions. The detected shape was (2,) + inhomogeneous part.",
     "output_type": "error",
     "traceback": [
      "\u001b[1;31m---------------------------------------------------------------------------\u001b[0m",
      "\u001b[1;31mValueError\u001b[0m                                Traceback (most recent call last)",
      "Cell \u001b[1;32mIn[100], line 72\u001b[0m\n\u001b[0;32m     69\u001b[0m \u001b[38;5;28mprint\u001b[39m(B)\n\u001b[0;32m     70\u001b[0m nsN\u001b[38;5;241m=\u001b[39mns\u001b[38;5;241m/\u001b[39mN\n\u001b[1;32m---> 72\u001b[0m \u001b[38;5;28mprint\u001b[39m(np\u001b[38;5;241m.\u001b[39madd(np\u001b[38;5;241m.\u001b[39mmultiply(nsN,S),np\u001b[38;5;241m.\u001b[39mmultiply(np\u001b[38;5;241m.\u001b[39msubtract(\u001b[38;5;241m1\u001b[39m,nsN),B)))\n",
      "\u001b[1;31mValueError\u001b[0m: setting an array element with a sequence. The requested array has an inhomogeneous shape after 1 dimensions. The detected shape was (2,) + inhomogeneous part."
     ]
    }
   ],
   "source": [
    "def sig( declcut):#declcut means declination cutoff in degrees\n",
    "    decdiff=np.abs(np.subtract(ice_dec,red_dec))\n",
    "    nuind=np.nonzero(decdiff < declcut)\n",
    "    sg=np.deg2rad(iceang[nuind])**2\n",
    "    Ang_sep1=np.arccos(np.abs(np.add(np.multiply(np.sin(dec_icecube[nuind]),np.sin(red_dec)),(np.multiply(np.multiply(np.cos(dec_icecube[nuind]),np.cos(red_dec)),np.cos(np.subtract(ra_icecube[nuind],red_ra)))))))**2\n",
    "    return ((np.exp(-1*Ang_sep1/(2*sg)))/(2*np.pi*sg)),len(nuind[0])\n",
    "def bgs(band, twopi = True): \n",
    "\n",
    "    if twopi == True:\n",
    "        s_ang = (np.sin(np.deg2rad(dec_red_dwarf1 + band)) - np.sin(np.deg2rad(dec_red_dwarf1 - band)))*(2 * np.pi)\n",
    "        return 1/s_ang\n",
    "    else:\n",
    "        s_ang = (np.sin(np.deg2rad(red_dec + band)) - np.sin(np.deg2rad(red_dec - band)))\n",
    "        return 1/s_ang\n",
    "def P(ns,N,S,B):\n",
    "    nsN=ns/N\n",
    "    return np.add(np.multiply(nsN,S),np.multiply(np.subtract(1,nsN),B))\n",
    "def TS(ns,N,S,B):\n",
    "    return 2*np.sum(np.log((P(ns,N,S,B)/B)))\n",
    "band=5\n",
    "from scipy.optimize import minimize\n",
    "#def ns_for_TSmax(S, B, N):\n",
    " #   nll = lambda x: -TS(n, S, B, N)\n",
    " #   soln = minimize(nll, 6 ,bounds=((0,None),))\n",
    "  #  ns = float(soln.n)\n",
    "  #  return ns\n",
    "#print(bgs(5,twopi=True))\n",
    "#print(sig(5)[1])\n",
    "#no=len(sig(0,5))\n",
    "#print(no)\n",
    "\n",
    "ns_values = np.linspace(0, 4, 100)\n",
    "ns=ns_values\n",
    "S=sig(declcut)\n",
    "#redno = 0\n",
    "declcut = 5  \n",
    "cut=5\n",
    "\n",
    "#S,N = sig(cut)\n",
    "B = bgs(band, twopi=True)\n",
    "#N = len(nuind(0))\n",
    "#print([P(ns,N,S,B)for ns in ns_values])\n",
    "#print([TS(ns,N,S,B)for ns in ns_values]\n",
    "N=39315\n",
    "#print(N)\n",
    "\"\"\"\n",
    "a=np.deg2rad(red_dec + band)\n",
    "b=np.sin(a)\n",
    "c=np.deg2rad(red_dec - band)\n",
    "d=np.sin(c)\n",
    "print(d)\n",
    "e=((b-d)*2*np.pi)\n",
    "print(1/e)\n",
    "print(B)\n",
    "decdiff=np.abs(np.subtract(ice_dec,red_dec))\n",
    "print(decdiff)\n",
    "#print(ice_dec)\n",
    "#print(red_dec)\n",
    "nuind=(np.nonzero(decdiff < declcut))\n",
    "\n",
    "sg=np.deg2rad(iceang[nuind])**2\n",
    "print(sg)\n",
    "((np.exp(-1*Ang_sep1/(2*sg)))/(2*np.pi*sg)),len(nuind[0])\n",
    "\"\"\"\n",
    "Ang_sep1=np.arccos(np.abs(np.add(np.multiply(np.sin(dec_icecube[nuind]),np.sin(red_dec)),(np.multiply(np.multiply(np.cos(dec_icecube[nuind]),np.cos(red_dec)),np.cos(np.subtract(ra_icecube[nuind],red_ra)))))))**2\n",
    "print(Ang_sep1)\n",
    "len(Ang_sep1)\n",
    "print(S)\n",
    "print(B)\n",
    "nsN=ns/N\n",
    "\n",
    "print(np.add(np.multiply(nsN,S),np.multiply(np.subtract(1,nsN),B)))"
   ]
  },
  {
   "cell_type": "code",
   "execution_count": 92,
   "id": "2271ba19",
   "metadata": {},
   "outputs": [
    {
     "name": "stdout",
     "output_type": "stream",
     "text": [
      "<generator object <genexpr> at 0x00000234508747C0>\n"
     ]
    }
   ],
   "source": [
    "TS_values =(TS(ns, N, S, B)for ns in ns_values)\n",
    "print(TS_values)"
   ]
  },
  {
   "cell_type": "code",
   "execution_count": null,
   "id": "c1299723",
   "metadata": {},
   "outputs": [],
   "source": []
  },
  {
   "cell_type": "code",
   "execution_count": 93,
   "id": "5c5eefbd",
   "metadata": {},
   "outputs": [
    {
     "ename": "ValueError",
     "evalue": "setting an array element with a sequence. The requested array has an inhomogeneous shape after 1 dimensions. The detected shape was (2,) + inhomogeneous part.",
     "output_type": "error",
     "traceback": [
      "\u001b[1;31m---------------------------------------------------------------------------\u001b[0m",
      "\u001b[1;31mValueError\u001b[0m                                Traceback (most recent call last)",
      "Cell \u001b[1;32mIn[93], line 2\u001b[0m\n\u001b[0;32m      1\u001b[0m \u001b[38;5;66;03m#Calculate TS for each value of ns\u001b[39;00m\n\u001b[1;32m----> 2\u001b[0m TS_values \u001b[38;5;241m=\u001b[39m( [TS(ns, N, S, B) \u001b[38;5;28;01mfor\u001b[39;00m ns \u001b[38;5;129;01min\u001b[39;00m ns_values])\n\u001b[0;32m      3\u001b[0m \u001b[38;5;66;03m#print(TS_values)\u001b[39;00m\n\u001b[0;32m      4\u001b[0m \u001b[38;5;28;01mimport\u001b[39;00m \u001b[38;5;21;01mmatplotlib\u001b[39;00m\u001b[38;5;21;01m.\u001b[39;00m\u001b[38;5;21;01mpyplot\u001b[39;00m  \u001b[38;5;28;01mas\u001b[39;00m \u001b[38;5;21;01mplt\u001b[39;00m\n",
      "Cell \u001b[1;32mIn[93], line 2\u001b[0m, in \u001b[0;36m<listcomp>\u001b[1;34m(.0)\u001b[0m\n\u001b[0;32m      1\u001b[0m \u001b[38;5;66;03m#Calculate TS for each value of ns\u001b[39;00m\n\u001b[1;32m----> 2\u001b[0m TS_values \u001b[38;5;241m=\u001b[39m( [TS(ns, N, S, B) \u001b[38;5;28;01mfor\u001b[39;00m ns \u001b[38;5;129;01min\u001b[39;00m ns_values])\n\u001b[0;32m      3\u001b[0m \u001b[38;5;66;03m#print(TS_values)\u001b[39;00m\n\u001b[0;32m      4\u001b[0m \u001b[38;5;28;01mimport\u001b[39;00m \u001b[38;5;21;01mmatplotlib\u001b[39;00m\u001b[38;5;21;01m.\u001b[39;00m\u001b[38;5;21;01mpyplot\u001b[39;00m  \u001b[38;5;28;01mas\u001b[39;00m \u001b[38;5;21;01mplt\u001b[39;00m\n",
      "Cell \u001b[1;32mIn[91], line 19\u001b[0m, in \u001b[0;36mTS\u001b[1;34m(ns, N, S, B)\u001b[0m\n\u001b[0;32m     18\u001b[0m \u001b[38;5;28;01mdef\u001b[39;00m \u001b[38;5;21mTS\u001b[39m(ns,N,S,B):\n\u001b[1;32m---> 19\u001b[0m     \u001b[38;5;28;01mreturn\u001b[39;00m \u001b[38;5;241m2\u001b[39m\u001b[38;5;241m*\u001b[39mnp\u001b[38;5;241m.\u001b[39msum(np\u001b[38;5;241m.\u001b[39mlog((P(ns,N,S,B)\u001b[38;5;241m/\u001b[39mB)))\n",
      "Cell \u001b[1;32mIn[91], line 17\u001b[0m, in \u001b[0;36mP\u001b[1;34m(ns, N, S, B)\u001b[0m\n\u001b[0;32m     15\u001b[0m \u001b[38;5;28;01mdef\u001b[39;00m \u001b[38;5;21mP\u001b[39m(ns,N,S,B):\n\u001b[0;32m     16\u001b[0m     nsN\u001b[38;5;241m=\u001b[39mns\u001b[38;5;241m/\u001b[39mN\n\u001b[1;32m---> 17\u001b[0m     \u001b[38;5;28;01mreturn\u001b[39;00m np\u001b[38;5;241m.\u001b[39madd(np\u001b[38;5;241m.\u001b[39mmultiply(nsN,S),np\u001b[38;5;241m.\u001b[39mmultiply(np\u001b[38;5;241m.\u001b[39msubtract(\u001b[38;5;241m1\u001b[39m,nsN),B))\n",
      "\u001b[1;31mValueError\u001b[0m: setting an array element with a sequence. The requested array has an inhomogeneous shape after 1 dimensions. The detected shape was (2,) + inhomogeneous part."
     ]
    }
   ],
   "source": [
    " #Calculate TS for each value of ns\n",
    "TS_values =( [TS(ns, N, S, B) for ns in ns_values])\n",
    "#print(TS_values)\n",
    "import matplotlib.pyplot  as plt\n",
    "# Plot the TS values\n",
    "plt.plot( ns_values,TS_values)\n",
    "plt.text(x=3.5, y=5, s=\"V388 Cas\", fontsize=12, color='black')\n",
    "plt.xlabel(r'$n_s$ (Number of signal events)')\n",
    "plt.ylabel('TS ')\n",
    "plt.grid(True)\n",
    "#plt.title('TS as a function of $n_s$')\n",
    "\n",
    "filered0 = r'C:\\Users\\DELL\\red_dwarf0_likelyhood.png'\n",
    "plt.savefig(filered0)\n"
   ]
  },
  {
   "cell_type": "code",
   "execution_count": 93,
   "id": "16477fa6",
   "metadata": {},
   "outputs": [
    {
     "ename": "TypeError",
     "evalue": "'int' object is not iterable",
     "output_type": "error",
     "traceback": [
      "\u001b[1;31m---------------------------------------------------------------------------\u001b[0m",
      "\u001b[1;31mTypeError\u001b[0m                                 Traceback (most recent call last)",
      "Cell \u001b[1;32mIn[93], line 6\u001b[0m\n\u001b[0;32m      4\u001b[0m     x \u001b[38;5;241m=\u001b[39m \u001b[38;5;28mfloat\u001b[39m(soln\u001b[38;5;241m.\u001b[39mns)\n\u001b[0;32m      5\u001b[0m     \u001b[38;5;28;01mreturn\u001b[39;00m x\n\u001b[1;32m----> 6\u001b[0m \u001b[38;5;28mprint\u001b[39m( ns_for_TSmax(S, B, N))\n",
      "Cell \u001b[1;32mIn[93], line 3\u001b[0m, in \u001b[0;36mns_for_TSmax\u001b[1;34m(S, B, N)\u001b[0m\n\u001b[0;32m      1\u001b[0m \u001b[38;5;28;01mdef\u001b[39;00m \u001b[38;5;21mns_for_TSmax\u001b[39m(S, B, N):\n\u001b[0;32m      2\u001b[0m     nll \u001b[38;5;241m=\u001b[39m \u001b[38;5;28;01mlambda\u001b[39;00m x: \u001b[38;5;241m-\u001b[39mTS(ns, S, B, N)\n\u001b[1;32m----> 3\u001b[0m     soln \u001b[38;5;241m=\u001b[39m minimize(nll, \u001b[38;5;241m6\u001b[39m ,bounds\u001b[38;5;241m=\u001b[39m((\u001b[38;5;241m0\u001b[39m,\u001b[38;5;28;01mNone\u001b[39;00m)))\n\u001b[0;32m      4\u001b[0m     x \u001b[38;5;241m=\u001b[39m \u001b[38;5;28mfloat\u001b[39m(soln\u001b[38;5;241m.\u001b[39mns)\n\u001b[0;32m      5\u001b[0m     \u001b[38;5;28;01mreturn\u001b[39;00m x\n",
      "File \u001b[1;32mC:\\ProgramData\\anaconda3\\Lib\\site-packages\\scipy\\optimize\\_minimize.py:642\u001b[0m, in \u001b[0;36mminimize\u001b[1;34m(fun, x0, args, method, jac, hess, hessp, bounds, constraints, tol, callback, options)\u001b[0m\n\u001b[0;32m    639\u001b[0m remove_vars \u001b[38;5;241m=\u001b[39m \u001b[38;5;28;01mFalse\u001b[39;00m\n\u001b[0;32m    640\u001b[0m \u001b[38;5;28;01mif\u001b[39;00m bounds \u001b[38;5;129;01mis\u001b[39;00m \u001b[38;5;129;01mnot\u001b[39;00m \u001b[38;5;28;01mNone\u001b[39;00m:\n\u001b[0;32m    641\u001b[0m     \u001b[38;5;66;03m# convert to new-style bounds so we only have to consider one case\u001b[39;00m\n\u001b[1;32m--> 642\u001b[0m     bounds \u001b[38;5;241m=\u001b[39m standardize_bounds(bounds, x0, \u001b[38;5;124m'\u001b[39m\u001b[38;5;124mnew\u001b[39m\u001b[38;5;124m'\u001b[39m)\n\u001b[0;32m    643\u001b[0m     bounds \u001b[38;5;241m=\u001b[39m _validate_bounds(bounds, x0, meth)\n\u001b[0;32m    645\u001b[0m     \u001b[38;5;28;01mif\u001b[39;00m meth \u001b[38;5;129;01min\u001b[39;00m {\u001b[38;5;124m\"\u001b[39m\u001b[38;5;124mtnc\u001b[39m\u001b[38;5;124m\"\u001b[39m, \u001b[38;5;124m\"\u001b[39m\u001b[38;5;124mslsqp\u001b[39m\u001b[38;5;124m\"\u001b[39m, \u001b[38;5;124m\"\u001b[39m\u001b[38;5;124ml-bfgs-b\u001b[39m\u001b[38;5;124m\"\u001b[39m}:\n\u001b[0;32m    646\u001b[0m         \u001b[38;5;66;03m# These methods can't take the finite-difference derivatives they\u001b[39;00m\n\u001b[0;32m    647\u001b[0m         \u001b[38;5;66;03m# need when a variable is fixed by the bounds. To avoid this issue,\u001b[39;00m\n\u001b[1;32m   (...)\u001b[0m\n\u001b[0;32m    652\u001b[0m \n\u001b[0;32m    653\u001b[0m         \u001b[38;5;66;03m# determine whether any variables are fixed\u001b[39;00m\n",
      "File \u001b[1;32mC:\\ProgramData\\anaconda3\\Lib\\site-packages\\scipy\\optimize\\_minimize.py:1011\u001b[0m, in \u001b[0;36mstandardize_bounds\u001b[1;34m(bounds, x0, meth)\u001b[0m\n\u001b[0;32m   1009\u001b[0m \u001b[38;5;28;01mif\u001b[39;00m meth \u001b[38;5;129;01min\u001b[39;00m {\u001b[38;5;124m'\u001b[39m\u001b[38;5;124mtrust-constr\u001b[39m\u001b[38;5;124m'\u001b[39m, \u001b[38;5;124m'\u001b[39m\u001b[38;5;124mpowell\u001b[39m\u001b[38;5;124m'\u001b[39m, \u001b[38;5;124m'\u001b[39m\u001b[38;5;124mnelder-mead\u001b[39m\u001b[38;5;124m'\u001b[39m, \u001b[38;5;124m'\u001b[39m\u001b[38;5;124mcobyla\u001b[39m\u001b[38;5;124m'\u001b[39m, \u001b[38;5;124m'\u001b[39m\u001b[38;5;124mnew\u001b[39m\u001b[38;5;124m'\u001b[39m}:\n\u001b[0;32m   1010\u001b[0m     \u001b[38;5;28;01mif\u001b[39;00m \u001b[38;5;129;01mnot\u001b[39;00m \u001b[38;5;28misinstance\u001b[39m(bounds, Bounds):\n\u001b[1;32m-> 1011\u001b[0m         lb, ub \u001b[38;5;241m=\u001b[39m old_bound_to_new(bounds)\n\u001b[0;32m   1012\u001b[0m         bounds \u001b[38;5;241m=\u001b[39m Bounds(lb, ub)\n\u001b[0;32m   1013\u001b[0m \u001b[38;5;28;01melif\u001b[39;00m meth \u001b[38;5;129;01min\u001b[39;00m (\u001b[38;5;124m'\u001b[39m\u001b[38;5;124ml-bfgs-b\u001b[39m\u001b[38;5;124m'\u001b[39m, \u001b[38;5;124m'\u001b[39m\u001b[38;5;124mtnc\u001b[39m\u001b[38;5;124m'\u001b[39m, \u001b[38;5;124m'\u001b[39m\u001b[38;5;124mslsqp\u001b[39m\u001b[38;5;124m'\u001b[39m, \u001b[38;5;124m'\u001b[39m\u001b[38;5;124mold\u001b[39m\u001b[38;5;124m'\u001b[39m):\n",
      "File \u001b[1;32mC:\\ProgramData\\anaconda3\\Lib\\site-packages\\scipy\\optimize\\_constraints.py:426\u001b[0m, in \u001b[0;36mold_bound_to_new\u001b[1;34m(bounds)\u001b[0m\n\u001b[0;32m    417\u001b[0m \u001b[38;5;28;01mdef\u001b[39;00m \u001b[38;5;21mold_bound_to_new\u001b[39m(bounds):\n\u001b[0;32m    418\u001b[0m \u001b[38;5;250m    \u001b[39m\u001b[38;5;124;03m\"\"\"Convert the old bounds representation to the new one.\u001b[39;00m\n\u001b[0;32m    419\u001b[0m \n\u001b[0;32m    420\u001b[0m \u001b[38;5;124;03m    The new representation is a tuple (lb, ub) and the old one is a list\u001b[39;00m\n\u001b[1;32m   (...)\u001b[0m\n\u001b[0;32m    424\u001b[0m \u001b[38;5;124;03m    -np.inf/np.inf.\u001b[39;00m\n\u001b[0;32m    425\u001b[0m \u001b[38;5;124;03m    \"\"\"\u001b[39;00m\n\u001b[1;32m--> 426\u001b[0m     lb, ub \u001b[38;5;241m=\u001b[39m \u001b[38;5;28mzip\u001b[39m(\u001b[38;5;241m*\u001b[39mbounds)\n\u001b[0;32m    428\u001b[0m     \u001b[38;5;66;03m# Convert occurrences of None to -inf or inf, and replace occurrences of\u001b[39;00m\n\u001b[0;32m    429\u001b[0m     \u001b[38;5;66;03m# any numpy array x with x.item(). Then wrap the results in numpy arrays.\u001b[39;00m\n\u001b[0;32m    430\u001b[0m     lb \u001b[38;5;241m=\u001b[39m np\u001b[38;5;241m.\u001b[39marray([\u001b[38;5;28mfloat\u001b[39m(_arr_to_scalar(x)) \u001b[38;5;28;01mif\u001b[39;00m x \u001b[38;5;129;01mis\u001b[39;00m \u001b[38;5;129;01mnot\u001b[39;00m \u001b[38;5;28;01mNone\u001b[39;00m \u001b[38;5;28;01melse\u001b[39;00m \u001b[38;5;241m-\u001b[39mnp\u001b[38;5;241m.\u001b[39minf\n\u001b[0;32m    431\u001b[0m                    \u001b[38;5;28;01mfor\u001b[39;00m x \u001b[38;5;129;01min\u001b[39;00m lb])\n",
      "\u001b[1;31mTypeError\u001b[0m: 'int' object is not iterable"
     ]
    }
   ],
   "source": [
    "def ns_for_TSmax(S, B, N):\n",
    "    nll = lambda x: -TS(ns, S, B, N)\n",
    "    soln = minimize(nll, 6 ,bounds=((0,None)))\n",
    "    x = float(soln.ns)\n",
    "    return x"
   ]
  },
  {
   "cell_type": "code",
   "execution_count": null,
   "id": "77dc5fdb",
   "metadata": {},
   "outputs": [],
   "source": []
  },
  {
   "cell_type": "code",
   "execution_count": null,
   "id": "ca1bbf07",
   "metadata": {},
   "outputs": [],
   "source": []
  }
 ],
 "metadata": {
  "kernelspec": {
   "display_name": "Python 3 (ipykernel)",
   "language": "python",
   "name": "python3"
  },
  "language_info": {
   "codemirror_mode": {
    "name": "ipython",
    "version": 3
   },
   "file_extension": ".py",
   "mimetype": "text/x-python",
   "name": "python",
   "nbconvert_exporter": "python",
   "pygments_lexer": "ipython3",
   "version": "3.11.5"
  }
 },
 "nbformat": 4,
 "nbformat_minor": 5
}
