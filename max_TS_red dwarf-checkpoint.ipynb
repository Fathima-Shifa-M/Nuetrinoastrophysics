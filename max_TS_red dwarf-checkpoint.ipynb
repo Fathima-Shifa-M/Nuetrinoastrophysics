{
 "cells": [
  {
   "cell_type": "code",
   "execution_count": 25,
   "id": "ac852ab6",
   "metadata": {},
   "outputs": [],
   "source": [
    "import numpy as np#load ice cube data\n",
    "from scipy.optimize import minimize"
   ]
  },
  {
   "cell_type": "code",
   "execution_count": 26,
   "id": "d8b305ff",
   "metadata": {},
   "outputs": [],
   "source": [
    "files=[\"IC40_exp.csv\",\"IC59_exp.csv\",\"IC79_exp.csv\",\"IC86_I_exp.csv\",\"IC86_II_exp.csv\", \n",
    "       \"IC86_III_exp.csv\",\"IC86_IV_exp.csv\",\"IC86_V_exp.csv\",\"IC86_VI_exp.csv\",\n",
    "       \"IC86_VII_exp.csv\"]"
   ]
  },
  {
   "cell_type": "code",
   "execution_count": 27,
   "id": "58d9d128",
   "metadata": {},
   "outputs": [],
   "source": [
    "data=np.loadtxt(\"IC40_exp.csv\")\n",
    "for name in files:#indexing the list\n",
    "    da=np.loadtxt(name)\n",
    "    data=np.vstack((data,da))#load everyfile\n",
    "mjd,log10_E,Ang_err,RA,Dec,Azim,Zenith=data.T\n",
    "    "
   ]
  },
  {
   "cell_type": "code",
   "execution_count": 28,
   "id": "841fc92e",
   "metadata": {},
   "outputs": [
    {
     "name": "stdout",
     "output_type": "stream",
     "text": [
      "[0.48 0.62 0.56 ... 0.3  0.21 0.25]\n"
     ]
    }
   ],
   "source": [
    "fields=[log10_E,RA,Dec,Ang_err]\n",
    "print(Ang_err)\n",
    "iceang=fields[3]"
   ]
  },
  {
   "cell_type": "code",
   "execution_count": 29,
   "id": "bcac006e",
   "metadata": {},
   "outputs": [
    {
     "name": "stdout",
     "output_type": "stream",
     "text": [
      "[array([3.31, 5.17, 3.92, ..., 2.88, 2.98, 3.28]), array([203.024,  75.024,  97.501, ..., 308.127, 332.199, 213.309]), array([ 16.76 , -13.371,  11.29 , ...,  42.543,  44.72 ,   4.708]), array([0.48, 0.62, 0.56, ..., 0.3 , 0.21, 0.25])]\n"
     ]
    }
   ],
   "source": [
    "print(fields)"
   ]
  },
  {
   "cell_type": "code",
   "execution_count": 42,
   "id": "ca8f10eb",
   "metadata": {},
   "outputs": [
    {
     "name": "stdout",
     "output_type": "stream",
     "text": [
      "15.832645833333334 62.36551033333333\n"
     ]
    }
   ],
   "source": [
    "def ra_to_degrees(ra_hours, ra_minutes, ra_seconds):# Convert RA from degrees, minutes, seconds to degrees\n",
    "    return (ra_hours * 15) + (ra_minutes / 4) + (ra_seconds / 240)\n",
    "def dec_to_degrees(dec_degrees, dec_minutes, dec_seconds):# Convert Dec from degrees, minutes, seconds to degrees\n",
    "    sign = 1 if dec_degrees >= 0 else -1\n",
    "    return abs(dec_degrees) + (dec_minutes / 60) + (dec_seconds / 3600) * sign\n",
    "v388_Cas_ra=(ra_to_degrees(1,3,19.8350))\n",
    "v388_Cas_dec =(dec_to_degrees(62,21,55.8372)) \n",
    "print(v388_Cas_ra,v388_Cas_dec)"
   ]
  },
  {
   "cell_type": "code",
   "execution_count": 43,
   "id": "e5a085b9",
   "metadata": {},
   "outputs": [
    {
     "name": "stdout",
     "output_type": "stream",
     "text": [
      "15.832645833333334\n",
      "62.36551033333333\n"
     ]
    }
   ],
   "source": [
    "RA1=v388_Cas_ra\n",
    "dec1=v388_Cas_dec\n",
    "print(RA1)\n",
    "print(dec1)"
   ]
  },
  {
   "cell_type": "code",
   "execution_count": 44,
   "id": "65234221",
   "metadata": {},
   "outputs": [
    {
     "name": "stdout",
     "output_type": "stream",
     "text": [
      "[203.024  75.024  97.501 ... 308.127 332.199 213.309]\n",
      "[ 16.76  -13.371  11.29  ...  42.543  44.72    4.708]\n",
      "15.832645833333334\n",
      "62.36551033333333\n"
     ]
    },
    {
     "data": {
      "text/plain": [
       "float"
      ]
     },
     "execution_count": 44,
     "metadata": {},
     "output_type": "execute_result"
    }
   ],
   "source": [
    "ice_ra=(fields[1])\n",
    "ice_dec=(fields[2])\n",
    "red_ra=(RA1)\n",
    "red_dec=(dec1)\n",
    "print(ice_ra)\n",
    "print(ice_dec)\n",
    "print(red_ra)\n",
    "print(red_dec)\n",
    "type(red_dec)"
   ]
  },
  {
   "cell_type": "code",
   "execution_count": 45,
   "id": "4c31a0c0",
   "metadata": {},
   "outputs": [
    {
     "name": "stdout",
     "output_type": "stream",
     "text": [
      "[3.54343726 1.30941582 1.70171347 ... 5.37783066 5.79796632 3.72294437]\n",
      "0.27633179909382805\n",
      "[ 0.29251718 -0.23336797  0.19704767 ...  0.74251542  0.78051124\n",
      "  0.0821701 ]\n",
      "1.088483495003213\n",
      "[3.26710546 1.03308402 1.42538167 ... 5.10149887 5.52163452 3.44661258]\n"
     ]
    }
   ],
   "source": [
    "ra_icecube =np.radians(ice_ra)  # RA of IceCube sources\n",
    "ra_red_dwarf =np.radians (red_ra)  # RA of red dwarfs\n",
    "dec_icecube = np.radians(ice_dec)  # Dec of IceCube sources\n",
    "dec_red_dwarf = np.radians(red_dec)\n",
    "print(ra_icecube)\n",
    "print(ra_red_dwarf)\n",
    "print(dec_icecube)\n",
    "print(dec_red_dwarf)\n",
    "ra_diff=ra_icecube-ra_red_dwarf\n",
    "print(ra_diff)\n"
   ]
  },
  {
   "cell_type": "code",
   "execution_count": 46,
   "id": "220fe643",
   "metadata": {},
   "outputs": [
    {
     "name": "stdout",
     "output_type": "stream",
     "text": [
      "[1.75703562 1.54454713 1.32909853 ... 0.75444099 0.53177102 1.94788163]\n"
     ]
    }
   ],
   "source": [
    "Ang_sep=np.arccos(np.sin(dec_icecube)*np.sin(dec_red_dwarf)+np.cos(dec_icecube)*np.cos(dec_red_dwarf)*np.cos(ra_diff))\n",
    "print(Ang_sep)"
   ]
  },
  {
   "cell_type": "code",
   "execution_count": 47,
   "id": "60545cbb",
   "metadata": {},
   "outputs": [
    {
     "name": "stdout",
     "output_type": "stream",
     "text": [
      "39315\n",
      "0.0\n",
      "0.0\n"
     ]
    }
   ],
   "source": [
    "def sig( declcut):\n",
    "    decdiff=np.abs(ice_dec-red_dec)\n",
    "    nuind=np.nonzero(decdiff < declcut)\n",
    "    sg=np.radians(iceang[nuind])**2\n",
    "    Ang_sep1=(np.arccos((np.sin(dec_icecube[nuind])*np.sin(dec_red_dwarf)+np.cos(dec_icecube[nuind])*np.cos(dec_red_dwarf)*np.cos(ra_icecube[nuind]-ra_red_dwarf))))**2\n",
    "    return ((np.exp(-1*Ang_sep1/(2*sg)))/(2*np.pi*sg))\n",
    "def bgs(band, twopi = True):\n",
    "    if twopi == True:\n",
    "        s_ang = (np.sin(np.radians(red_dec + band)) - np.sin(np.radians(red_dec - band)))*(2 * np.pi)\n",
    "        return 1/s_ang\n",
    "    else:\n",
    "        s_ang = (np.sin(np.deg2rad(red_dec + band)) - np.sin(np.deg2rad(red_dec- band)))\n",
    "        return 1/s_ang\n",
    "def P(x,N,S,B):\n",
    "    nsN=x/N\n",
    "    return nsN*S+(1-nsN)*B\n",
    "def TS(x,N,S,B):\n",
    "    return 2*np.sum(np.log((P(x,N,S,B)/B)))\n",
    "declcut=5\n",
    "band=5\n",
    "B=bgs(band,twopi=True)\n",
    "S =(sig(declcut)) \n",
    "decdiff=np.abs(ice_dec-red_dec)\n",
    "nuind=np.nonzero(decdiff < declcut)\n",
    "N=len(nuind[0])\n",
    "print(N)\n",
    "\n",
    "\n",
    "def ns_for_TSmax(S, B, N):\n",
    "    declcut=5\n",
    "    band=5\n",
    "    B=bgs(band,twopi=True)\n",
    "    S =(sig(declcut)) \n",
    "    nll = lambda x: -TS(x,N,S,B)\n",
    "    soln = minimize(nll,6,bounds=((0,None),))\n",
    "    ns = float(soln.x)\n",
    "    return ns\n",
    "ns1=ns_for_TSmax(S, B, N)\n",
    "\n",
    "print(ns_for_TSmax(S, B, N))\n",
    "print( TS(ns1,N,S,B))"
   ]
  },
  {
   "cell_type": "code",
   "execution_count": null,
   "id": "43a8bef9",
   "metadata": {},
   "outputs": [],
   "source": []
  },
  {
   "cell_type": "code",
   "execution_count": null,
   "id": "a48f3b8e",
   "metadata": {},
   "outputs": [],
   "source": []
  }
 ],
 "metadata": {
  "kernelspec": {
   "display_name": "Python 3 (ipykernel)",
   "language": "python",
   "name": "python3"
  },
  "language_info": {
   "codemirror_mode": {
    "name": "ipython",
    "version": 3
   },
   "file_extension": ".py",
   "mimetype": "text/x-python",
   "name": "python",
   "nbconvert_exporter": "python",
   "pygments_lexer": "ipython3",
   "version": "3.11.5"
  }
 },
 "nbformat": 4,
 "nbformat_minor": 5
}
