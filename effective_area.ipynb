{
 "cells": [
  {
   "cell_type": "code",
   "execution_count": 448,
   "id": "837f1f41",
   "metadata": {},
   "outputs": [],
   "source": [
    "import numpy as np\n",
    "import pandas as pd\n",
    "import matplotlib.pyplot as plt"
   ]
  },
  {
   "cell_type": "code",
   "execution_count": 449,
   "id": "e312d52a",
   "metadata": {},
   "outputs": [],
   "source": [
    "column_namesarea = [\"log10(E_nu/GeV)_min\", \"log10(E_nu/GeV)_max\", \"Dec_nu_min[deg]\", \"Dec_nu_max[deg]\", \"A_Eff[cm^2]\"]\n",
    "dataarea1= pd.read_csv(\"IC40_effectiveArea.csv\", sep=\"\\s+\",  names=column_namesarea, skiprows=1)\n",
    "dataarea2= pd.read_csv(\"IC59_effectiveArea.csv\", sep=\"\\s+\", names=column_namesarea, skiprows=1)\n",
    "dataarea3= pd.read_csv(\"IC79_effectiveArea.csv\", sep=\"\\s+\", names=column_namesarea, skiprows=1)\n",
    "dataarea4= pd.read_csv(\"IC86_I_effectiveArea.csv\", sep=\"\\s+\",  names=column_namesarea, skiprows=1)\n",
    "dataarea5= pd.read_csv(\"IC86_II_effectiveArea.csv\", sep=\"\\s+\",  names=column_namesarea, skiprows=1)\n",
    "#print(dataarea4)"
   ]
  },
  {
   "cell_type": "code",
   "execution_count": 450,
   "id": "21543616",
   "metadata": {},
   "outputs": [],
   "source": [
    "dataarea1[\"Dataset\"] = \"IC40\"\n",
    "dataarea2[\"Dataset\"] = \"IC59\"\n",
    "dataarea3[\"Dataset\"] = \"IC79\"\n",
    "dataarea4[\"Dataset\"] = \"IC86_I\"\n",
    "dataarea5[\"Dataset\"] = \"IC86_II\"\n"
   ]
  },
  {
   "cell_type": "code",
   "execution_count": 451,
   "id": "650f264a",
   "metadata": {},
   "outputs": [],
   "source": [
    "log10E1=dataarea1['log10(E_nu/GeV)_min']\n",
    "#print(log10E1)\n",
    "log10E2=dataarea2['log10(E_nu/GeV)_min']\n",
    "log10E3=dataarea3['log10(E_nu/GeV)_min']\n",
    "log10E4=dataarea4['log10(E_nu/GeV)_min']\n",
    "log10E5=dataarea5['log10(E_nu/GeV)_min']\n"
   ]
  },
  {
   "cell_type": "code",
   "execution_count": 452,
   "id": "56778017",
   "metadata": {},
   "outputs": [],
   "source": [
    "area1=dataarea1[\"A_Eff[cm^2]\"]\n",
    "area2=dataarea2[\"A_Eff[cm^2]\"]\n",
    "area3=dataarea3[\"A_Eff[cm^2]\"]\n",
    "area4=dataarea4[\"A_Eff[cm^2]\"]\n",
    "area5=dataarea5[\"A_Eff[cm^2]\"]\n",
    "#print(area4)"
   ]
  },
  {
   "cell_type": "code",
   "execution_count": 453,
   "id": "a836f9b8",
   "metadata": {},
   "outputs": [],
   "source": [
    "#if area1.equals(area2) and area1.equals(area3) and area1.equals(area4) and area1.equals(area5):\n",
    "#    print(\"All datasets are identical.\")\n",
    "#else:\n",
    "#    print(\"Datasets are different.\")"
   ]
  },
  {
   "cell_type": "code",
   "execution_count": 454,
   "id": "f0ac854a",
   "metadata": {},
   "outputs": [],
   "source": [
    "#dataarea_40_86 = pd.concat([dataarea1, dataarea2, dataarea3, dataarea4, dataarea5], ignore_index=True)\n",
    "#print(dataarea_40_86)\n"
   ]
  },
  {
   "cell_type": "code",
   "execution_count": 455,
   "id": "5e774eae",
   "metadata": {},
   "outputs": [],
   "source": [
    "area_corr1= dataarea1[dataarea1['log10(E_nu/GeV)_min'] == 5]\n",
    "#print(area_corr1)\n",
    "area_corr2= dataarea2[dataarea2['log10(E_nu/GeV)_min'] == 5]\n",
    "area_corr3= dataarea3[dataarea3['log10(E_nu/GeV)_min'] == 5]\n",
    "area_corr4= dataarea4[dataarea4['log10(E_nu/GeV)_min'] == 5]\n",
    "area_corr5= dataarea5[dataarea5['log10(E_nu/GeV)_min'] == 5]\n"
   ]
  },
  {
   "cell_type": "code",
   "execution_count": 456,
   "id": "eab32b1d",
   "metadata": {},
   "outputs": [],
   "source": [
    "# Extract corresponding values from 'area' column\n",
    "area_values1 = area_corr1['A_Eff[cm^2]']\n",
    "#print(area_values1 )\n",
    "area_values2 = area_corr2['A_Eff[cm^2]']\n",
    "area_values3 = area_corr3['A_Eff[cm^2]']\n",
    "area_values4 = area_corr4['A_Eff[cm^2]']\n",
    "area_values5 = area_corr5['A_Eff[cm^2]']\n",
    "logE=area_corr1['log10(E_nu/GeV)_min']\n",
    "#print(area_values1)\n",
    "#len(logE)"
   ]
  },
  {
   "cell_type": "code",
   "execution_count": 457,
   "id": "b879915c",
   "metadata": {},
   "outputs": [],
   "source": [
    "dec1 = area_corr1['Dec_nu_min[deg]']\n",
    "dec2 = area_corr2['Dec_nu_min[deg]']\n",
    "dec3 = area_corr3['Dec_nu_min[deg]']\n",
    "dec4 = area_corr4['Dec_nu_min[deg]']\n",
    "dec5 = area_corr5['Dec_nu_min[deg]']\n",
    "#print(dec4)"
   ]
  },
  {
   "cell_type": "code",
   "execution_count": 458,
   "id": "cd5644fa",
   "metadata": {},
   "outputs": [],
   "source": [
    "#if log10E1.equals(log10E2) and log10E1.equals(log10E3) and log10E1.equals(log10E4) and log10E1.equals(log10E5):\n",
    "#    print(\"All datasets are identical.\")\n",
    "#else:\n",
    "#    print(\"Datasets are different.\")"
   ]
  },
  {
   "cell_type": "code",
   "execution_count": 459,
   "id": "14a206a3",
   "metadata": {},
   "outputs": [],
   "source": [
    "#if dec1.equals(dec2) and dec1.equals(dec3) and dec1.equals(dec4) and dec1.equals(dec5):\n",
    "  #  print(\"All datasets are identical.\")\n",
    "#else:\n",
    "#    print(\"Datasets are different.\")\n"
   ]
  },
  {
   "cell_type": "code",
   "execution_count": 460,
   "id": "c176f949",
   "metadata": {},
   "outputs": [],
   "source": [
    "dec=area_corr1['Dec_nu_min[deg]']\n",
    "log10E=dataarea1['log10(E_nu/GeV)_min']\n",
    "#print(log10E==5)"
   ]
  },
  {
   "cell_type": "code",
   "execution_count": 462,
   "id": "75b81641",
   "metadata": {},
   "outputs": [],
   "source": [
    "column_namestime=[\"MJD_start[days]\",\"MJD_stop[days]\"]\n",
    "datatime1= pd.read_csv(\"IC40_exp(1).csv\", sep=\"\\s+\",  names=column_namestime, skiprows=1)\n",
    "datatime2= pd.read_csv(\"IC59_exp.csv\", sep=\"\\s+\", names=column_namestime, skiprows=1)\n",
    "datatime3= pd.read_csv(\"IC79_exp.csv\", sep=\"\\s+\",  names=column_namestime, skiprows=1)\n",
    "datatime4= pd.read_csv(\"IC86_I_exp.csv\", sep=\"\\s+\",  names=column_namestime, skiprows=1)\n",
    "datatime5= pd.read_csv(\"IC86_II_exp.csv\", sep=\"\\s+\",  names=column_namestime, skiprows=1)\n",
    "datatime6= pd.read_csv(\"IC86_III_exp.csv\", sep=\"\\s+\",  names=column_namestime, skiprows=1)\n",
    "datatime7= pd.read_csv(\"IC86_IV_exp.csv\", sep=\"\\s+\",  names=column_namestime, skiprows=1)\n",
    "datatime8= pd.read_csv(\"IC86_V_exp.csv\", sep=\"\\s+\", names=column_namestime, skiprows=1)\n",
    "datatime9= pd.read_csv(\"IC86_VI_exp.csv\", sep=\"\\s+\",  names=column_namestime, skiprows=1)\n",
    "datatime10= pd.read_csv(\"IC86_VII_exp.csv\", sep=\"\\s+\",  names=column_namestime, skiprows=1)"
   ]
  },
  {
   "cell_type": "code",
   "execution_count": 463,
   "id": "61bb3d93",
   "metadata": {},
   "outputs": [],
   "source": [
    "#print(datatime2)"
   ]
  },
  {
   "cell_type": "code",
   "execution_count": 464,
   "id": "777a69aa",
   "metadata": {},
   "outputs": [],
   "source": [
    "datatime1[\"Dataset\"] = \"IC40\"\n",
    "datatime2[\"Dataset\"] = \"IC59\"\n",
    "datatime3[\"Dataset\"] = \"IC79\"\n",
    "datatime4[\"Dataset\"] = \"IC86_I\"\n",
    "datatime5[\"Dataset\"] = \"IC86_II\"\n",
    "datatime6[\"Dataset\"] = \"IC86_III\"\n",
    "datatime7[\"Dataset\"] = \"IC86_IV\"\n",
    "datatime8[\"Dataset\"] = \"IC86_V\"\n",
    "datatime9[\"Dataset\"] = \"IC86_VI\"\n",
    "datatime10[\"Dataset\"] = \"IC86_VII\"\n"
   ]
  },
  {
   "cell_type": "code",
   "execution_count": 492,
   "id": "7fcd2b65",
   "metadata": {},
   "outputs": [
    {
     "name": "stdout",
     "output_type": "stream",
     "text": [
      "0       57891.502917\n",
      "1       57891.837569\n",
      "2       57892.171019\n",
      "3       57892.504525\n",
      "4       57892.837951\n",
      "            ...     \n",
      "1439    58308.309051\n",
      "1440    58308.642685\n",
      "1441    58308.963009\n",
      "1442    58309.020891\n",
      "1443    58309.082350\n",
      "Name: MJD_stop[days], Length: 1444, dtype: float64\n"
     ]
    }
   ],
   "source": [
    "#datatime_40_86 = pd.concat([datatime1, datatime2, datatime3, datatime4, datatime5, datatime6, datatime7, datatime8, datatime9, datatime10], ignore_index=True)\n",
    "#print(datatime_40_86)\n",
    "print((datatime10['MJD_stop[days]']))"
   ]
  },
  {
   "cell_type": "code",
   "execution_count": 493,
   "id": "f7bde955",
   "metadata": {},
   "outputs": [
    {
     "name": "stdout",
     "output_type": "stream",
     "text": [
      "0       57891.169907\n",
      "1       57891.504850\n",
      "2       57891.837569\n",
      "3       57892.171019\n",
      "4       57892.504525\n",
      "            ...     \n",
      "1439    58307.976088\n",
      "1440    58308.309051\n",
      "1441    58308.642685\n",
      "1442    58308.964317\n",
      "1443    58309.024572\n",
      "Name: MJD_start[days], Length: 1444, dtype: float64\n"
     ]
    }
   ],
   "source": [
    "print(datatime10['MJD_start[days]'])\n",
    "#print()"
   ]
  },
  {
   "cell_type": "code",
   "execution_count": 494,
   "id": "68cb557e",
   "metadata": {},
   "outputs": [],
   "source": [
    "datatimesum1=np.sum(datatime1['MJD_stop[days]']-datatime1['MJD_start[days]'])\n",
    "datatimesum2=np.sum(datatime2['MJD_stop[days]']-datatime2['MJD_start[days]'])\n",
    "datatimesum3=np.sum(datatime3['MJD_stop[days]']-datatime3['MJD_start[days]'])\n",
    "datatimesum4=np.sum(datatime4['MJD_stop[days]']-datatime4['MJD_start[days]'])\n",
    "datatimesum5=np.sum(datatime5['MJD_stop[days]']-datatime5['MJD_start[days]'])\n",
    "datatimesum6=np.sum(datatime6['MJD_stop[days]']-datatime6['MJD_start[days]'])\n",
    "datatimesum7=np.sum(datatime7['MJD_stop[days]']-datatime7['MJD_start[days]'])\n",
    "datatimesum8=np.sum(datatime8['MJD_stop[days]']-datatime8['MJD_start[days]'])\n",
    "datatimesum9=np.sum(datatime9['MJD_stop[days]']-datatime9['MJD_start[days]'])\n",
    "datatimesum10=np.sum(datatime10['MJD_stop[days]']-datatime10['MJD_start[days]'])\n"
   ]
  },
  {
   "cell_type": "code",
   "execution_count": 495,
   "id": "55155667",
   "metadata": {},
   "outputs": [],
   "source": [
    "area_radec1=(area_values1)#area will change\n",
    "#print(area_radec3)\n",
    "area_radec2=(area_values2)\n",
    "area_radec3=(area_values3)\n",
    "area_radec4=(area_values4)\n",
    "area_radec5=(area_values5)"
   ]
  },
  {
   "cell_type": "code",
   "execution_count": 496,
   "id": "658bf3d4",
   "metadata": {},
   "outputs": [],
   "source": [
    "a1=datatimesum1*area_radec1\n",
    "a2=datatimesum2*area_radec2\n",
    "a3=datatimesum3*area_radec3\n",
    "a4=datatimesum4*area_radec4\n",
    "a5=datatimesum5*area_radec5\n",
    "a6=datatimesum6*area_radec5\n",
    "a7=datatimesum7*area_radec5\n",
    "a8=datatimesum8*area_radec5\n",
    "a9=datatimesum9*area_radec5\n",
    "a10=datatimesum10*area_radec5\n",
    "a = pd.concat([a1, a2, a3, a4, a5, a6, a7, a8, a9, a10])\n"
   ]
  },
  {
   "cell_type": "code",
   "execution_count": 497,
   "id": "26f277c5",
   "metadata": {},
   "outputs": [
    {
     "data": {
      "text/plain": [
       "500"
      ]
     },
     "execution_count": 497,
     "metadata": {},
     "output_type": "execute_result"
    }
   ],
   "source": [
    "#print(a1)\n",
    "len(a)"
   ]
  },
  {
   "cell_type": "code",
   "execution_count": 498,
   "id": "f5479a49",
   "metadata": {},
   "outputs": [
    {
     "data": {
      "text/plain": [
       "numpy.ndarray"
      ]
     },
     "execution_count": 498,
     "metadata": {},
     "output_type": "execute_result"
    }
   ],
   "source": [
    "source_dec=np.array([72.17,61.75, 57.53 ,45.27 , 66.05,59.87 , 54.29,49.81,47.57,45.86,40.11, 38.15, 28.99, 20.38,19.70 , 16.10,\n",
    "            16.05 , 8.51,8.73, 4.93 ,0.55 ,9.32,21.89,58.87 ,29.53,22.92,20.61,15.97,2.91, 34.33 ,2.95,73.5,-25.02,68.84,\n",
    "            42.3,-26.87,-26.1])\n",
    "type(source_dec)"
   ]
  },
  {
   "cell_type": "code",
   "execution_count": 499,
   "id": "9026f4a4",
   "metadata": {},
   "outputs": [],
   "source": [
    "dec_min=area_corr1['Dec_nu_min[deg]']\n",
    "dec_max=area_corr1['Dec_nu_max[deg]']\n",
    "#print(dec_min,dec_max)"
   ]
  },
  {
   "cell_type": "code",
   "execution_count": 500,
   "id": "7cdefbf8",
   "metadata": {},
   "outputs": [],
   "source": [
    "#mag=np.array(source_dec)\n",
    "decmin=np.array(dec_min)\n",
    "decmax=np.array(dec_max)\n",
    "#effarea1\n",
    "effarea1 = np.array(area_values1)\n",
    "effarea2 = np.array(area_values2)\n",
    "effarea3 = np.array(area_values3)\n",
    "effarea4 = np.array(area_values4)\n",
    "effarea5 = np.array(area_values5)"
   ]
  },
  {
   "cell_type": "code",
   "execution_count": 511,
   "id": "37be962b",
   "metadata": {},
   "outputs": [
    {
     "name": "stdout",
     "output_type": "stream",
     "text": [
      "Matching Declination Bins for log10E = 5:\n",
      "[( 72.17,  66.93,  73.74) ( 61.75,  61.64,  66.93)\n",
      " ( 57.53,  57.14,  61.64) ( 45.27,  42.84,  46.05)\n",
      " ( 66.05,  61.64,  66.93) ( 59.87,  57.14,  61.64)\n",
      " ( 54.29,  53.13,  57.14) ( 49.81,  49.46,  53.13)\n",
      " ( 47.57,  46.05,  49.46) ( 45.86,  42.84,  46.05)\n",
      " ( 40.11,  39.79,  42.84) ( 38.15,  36.87,  39.79)\n",
      " ( 28.99,  28.69,  31.33) ( 20.38,  18.66,  21.1 )\n",
      " ( 19.7 ,  18.66,  21.1 ) ( 16.1 ,  13.89,  16.26)\n",
      " ( 16.05,  13.89,  16.26) (  8.51,   6.89,   9.21)\n",
      " (  8.73,   6.89,   9.21) (  4.93,   4.59,   6.89)\n",
      " (  0.55,   0.  ,   2.29) (  9.32,   9.21,  11.54)\n",
      " ( 21.89,  21.1 ,  23.58) ( 58.87,  57.14,  61.64)\n",
      " ( 29.53,  28.69,  31.33) ( 22.92,  21.1 ,  23.58)\n",
      " ( 20.61,  18.66,  21.1 ) ( 15.97,  13.89,  16.26)\n",
      " (  2.91,   2.29,   4.59) ( 34.33,  34.06,  36.87)\n",
      " (  2.95,   2.29,   4.59) ( 73.5 ,  66.93,  73.74)\n",
      " (-25.02, -26.1 , -23.58) ( 68.84,  66.93,  73.74)\n",
      " ( 42.3 ,  39.79,  42.84) (-26.87, -28.69, -26.1 )\n",
      " (-26.1 , -26.1 , -23.58)]\n",
      "\n",
      "Corresponding Effective Areas:\n",
      "EffArea1: [142511.34 192108.35 298668.2  383964.64 192108.35 298668.2  268885.06\n",
      " 327530.56 326841.28 383964.64 413932.37 447288.06 483662.7  697253.56\n",
      " 697253.56 781206.86 781206.86 922215.65 922215.65 868190.49 664993.22\n",
      " 904482.68 626201.16 298668.2  483662.7  626201.16 697253.56 781206.86\n",
      " 738347.37 464715.25 738347.37 142511.34   4924.63 142511.34 413932.37\n",
      "   3386.01   4924.63]\n",
      "EffArea2: [ 223122.4   328616.48  386547.73  602959.95  328616.48  386547.73\n",
      "  499930.68  563039.93  548362.44  602959.95  634297.5   696289.57\n",
      "  747210.96  911374.15  911374.15  945662.56  945662.56 1021629.58\n",
      " 1021629.58 1044896.53 1082339.03 1031993.98  814937.82  386547.73\n",
      "  747210.96  814937.82  911374.15  945662.56 1170014.39  679699.5\n",
      " 1170014.39  223122.4    24295.56  223122.4   634297.5    18434.98\n",
      "   24295.56]\n",
      "EffArea3: [ 283096.69  334452.61  432559.05  615497.3   334452.61  432559.05\n",
      "  506673.78  564286.28  584729.21  615497.3   650390.74  663279.89\n",
      "  828335.24  946616.11  946616.11 1028663.26 1028663.26 1184252.5\n",
      " 1184252.5  1201216.18 1231296.95 1114555.51  956519.67  432559.05\n",
      "  828335.24  956519.67  946616.11 1028663.26 1209962.29  699263.35\n",
      " 1209962.29  283096.69   45728.59  283096.69  650390.74   28670.15\n",
      "   45728.59]\n",
      "EffArea4: [ 352392.76  484936.06  545754.82  740477.5   484936.06  545754.82\n",
      "  617535.52  731489.57  685775.86  740477.5   770514.56  825068.6\n",
      "  956671.94 1116505.44 1116505.44 1130498.26 1130498.26 1313817.82\n",
      " 1313817.82 1401201.81 1506267.09 1231100.61 1082127.71  545754.82\n",
      "  956671.94 1082127.71 1116505.44 1130498.26 1553890.02  816084.22\n",
      " 1553890.02  352392.76   80827.58  352392.76  770514.56   68325.26\n",
      "   80827.58]\n",
      "EffArea5: [ 352658.02  440061.61  511701.59  725763.26  440061.61  511701.59\n",
      "  629593.82  679553.87  713443.51  725763.26  769676.34  790531.57\n",
      "  883576.   1025972.56 1025972.56 1063440.16 1063440.16 1213062.4\n",
      " 1213062.4  1219300.02 1286877.15 1169925.73 1014150.92  511701.59\n",
      "  883576.   1014150.92 1025972.56 1063440.16 1329591.31  818738.18\n",
      " 1329591.31  352658.02   28481.68  352658.02  769676.34   22704.84\n",
      "   28481.68]\n"
     ]
    }
   ],
   "source": [
    "matched_dec = []\n",
    "matched_area1 = []\n",
    "matched_area2 = []\n",
    "matched_area3 = []\n",
    "matched_area4 = []\n",
    "matched_area5 = []\n",
    "\n",
    "for source in source_dec:\n",
    "    mask = (decmin <= source) & (source < decmax)  # Condition\n",
    "\n",
    "    if np.any(mask):  \n",
    "        matched_values_min = decmin[mask]\n",
    "        matched_values_max = decmax[mask]\n",
    "        matched_area_value1 = effarea1[mask]\n",
    "        matched_area_value2 = effarea2[mask]\n",
    "        matched_area_value3 = effarea3[mask]\n",
    "        matched_area_value4 = effarea4[mask]\n",
    "        matched_area_value5 = effarea5[mask]\n",
    "\n",
    "        # Ensure extracted values are not empty\n",
    "        if (len(matched_values_min) > 0 and len(matched_values_max) > 0 and \n",
    "            len(matched_area_value1) > 0 and len(matched_area_value2) > 0 and\n",
    "            len(matched_area_value3) > 0 and len(matched_area_value4) > 0 and\n",
    "            len(matched_area_value5) > 0):\n",
    "\n",
    "            matched_dec.append((source, matched_values_min[0], matched_values_max[0]))  # Store declination bin\n",
    "            matched_area1.append(matched_area_value1[0])\n",
    "            matched_area2.append(matched_area_value2[0])\n",
    "            matched_area3.append(matched_area_value3[0])\n",
    "            matched_area4.append(matched_area_value4[0])\n",
    "            matched_area5.append(matched_area_value5[0])\n",
    "        else:\n",
    "            print(f\"Warning: No matching values found for source {source}\")\n",
    "\n",
    "# Convert to structured arrays for easy printing\n",
    "if matched_dec:\n",
    "    matched_dec = np.array(matched_dec, dtype=[('SourceDec', float), ('DecMin', float), ('DecMax', float)])\n",
    "    matched_area1 = np.array(matched_area1)\n",
    "    matched_area2 = np.array(matched_area2)\n",
    "    matched_area3 = np.array(matched_area3)\n",
    "    matched_area4 = np.array(matched_area4)\n",
    "    matched_area5 = np.array(matched_area5)\n",
    "\n",
    "    print(\"Matching Declination Bins for log10E = 5:\")\n",
    "    print(matched_dec)\n",
    "    \n",
    "    print(\"\\nCorresponding Effective Areas:\")\n",
    "    print(\"EffArea1:\", matched_area1)\n",
    "    print(\"EffArea2:\", matched_area2)\n",
    "    print(\"EffArea3:\", matched_area3)\n",
    "    print(\"EffArea4:\", matched_area4)\n",
    "    print(\"EffArea5:\", matched_area5)\n",
    "\n",
    "else:\n",
    "    print(\"No matching declination bins found.\")\n"
   ]
  },
  {
   "cell_type": "code",
   "execution_count": 512,
   "id": "34e9f26c",
   "metadata": {},
   "outputs": [
    {
     "name": "stdout",
     "output_type": "stream",
     "text": [
      "DecMin values: [ 66.93  61.64  57.14  42.84  61.64  57.14  53.13  49.46  46.05  42.84\n",
      "  39.79  36.87  28.69  18.66  18.66  13.89  13.89   6.89   6.89   4.59\n",
      "   0.     9.21  21.1   57.14  28.69  21.1   18.66  13.89   2.29  34.06\n",
      "   2.29  66.93 -26.1   66.93  39.79 -28.69 -26.1 ]\n",
      "DecMax values: [ 73.74  66.93  61.64  46.05  66.93  61.64  57.14  53.13  49.46  46.05\n",
      "  42.84  39.79  31.33  21.1   21.1   16.26  16.26   9.21   9.21   6.89\n",
      "   2.29  11.54  23.58  61.64  31.33  23.58  21.1   16.26   4.59  36.87\n",
      "   4.59  73.74 -23.58  73.74  42.84 -26.1  -23.58]\n"
     ]
    },
    {
     "data": {
      "text/plain": [
       "37"
      ]
     },
     "execution_count": 512,
     "metadata": {},
     "output_type": "execute_result"
    }
   ],
   "source": [
    "dec_min_values = matched_dec['DecMin']  # Extract DecMin values\n",
    "dec_max_values = matched_dec['DecMax']  # Extract DecMax values\n",
    "\n",
    "print(\"DecMin values:\", dec_min_values)\n",
    "print(\"DecMax values:\", dec_max_values)\n",
    "len(dec_min_values)"
   ]
  },
  {
   "cell_type": "code",
   "execution_count": 504,
   "id": "caecc1eb",
   "metadata": {},
   "outputs": [],
   "source": [
    "exposure1=(matched_area1*datatimesum1)\n",
    "exposure2=matched_area2*datatimesum2\n",
    "exposure3=matched_area3*datatimesum3\n",
    "exposure4=matched_area4*datatimesum4\n",
    "exposure5=matched_area5*datatimesum5\n",
    "exposure6=matched_area5*datatimesum6\n",
    "exposure7=matched_area5*datatimesum7\n",
    "exposure8=matched_area5*datatimesum8\n",
    "exposure9=matched_area5*datatimesum9\n",
    "exposure10=matched_area5*datatimesum10\n",
    "#print(datatimesum7)"
   ]
  },
  {
   "cell_type": "code",
   "execution_count": 505,
   "id": "134e64fb",
   "metadata": {},
   "outputs": [],
   "source": [
    "total=exposure1+exposure2+exposure3+exposure4+exposure5+exposure6+exposure7+exposure8+exposure9+exposure10"
   ]
  },
  {
   "cell_type": "code",
   "execution_count": 506,
   "id": "3008ddd1",
   "metadata": {},
   "outputs": [
    {
     "name": "stdout",
     "output_type": "stream",
     "text": [
      "[1.11479854e+09 1.42332154e+09 1.69269667e+09 2.39467405e+09\n",
      " 1.42332154e+09 1.69269667e+09 2.02813665e+09 2.23853129e+09\n",
      " 2.29884276e+09 2.39467405e+09 2.53462345e+09 2.63719323e+09\n",
      " 2.96946911e+09 3.51162003e+09 3.51162003e+09 3.66831828e+09\n",
      " 3.66831828e+09 4.18746782e+09 4.18746782e+09 4.22353452e+09\n",
      " 4.35338440e+09 4.04003520e+09 3.41646962e+09 1.69269667e+09\n",
      " 2.96946911e+09 3.41646962e+09 3.51162003e+09 3.66831828e+09\n",
      " 4.51503101e+09 2.70829126e+09 4.51503101e+09 1.11479854e+09\n",
      " 1.14437631e+08 1.11479854e+09 2.53462345e+09 8.95295292e+07\n",
      " 1.14437631e+08]\n"
     ]
    },
    {
     "data": {
      "text/plain": [
       "37"
      ]
     },
     "execution_count": 506,
     "metadata": {},
     "output_type": "execute_result"
    }
   ],
   "source": [
    "print(total)\n",
    "len(total)"
   ]
  },
  {
   "cell_type": "code",
   "execution_count": null,
   "id": "8994091a",
   "metadata": {},
   "outputs": [],
   "source": [
    "\n"
   ]
  },
  {
   "cell_type": "code",
   "execution_count": null,
   "id": "ae0be335",
   "metadata": {},
   "outputs": [],
   "source": []
  },
  {
   "cell_type": "code",
   "execution_count": null,
   "id": "cc0930a8",
   "metadata": {},
   "outputs": [],
   "source": [
    "\n"
   ]
  },
  {
   "cell_type": "code",
   "execution_count": null,
   "id": "c479fdab",
   "metadata": {},
   "outputs": [],
   "source": []
  },
  {
   "cell_type": "code",
   "execution_count": null,
   "id": "ea134626",
   "metadata": {},
   "outputs": [],
   "source": []
  },
  {
   "cell_type": "code",
   "execution_count": null,
   "id": "b6167edb",
   "metadata": {},
   "outputs": [],
   "source": []
  },
  {
   "cell_type": "code",
   "execution_count": null,
   "id": "cab78158",
   "metadata": {},
   "outputs": [],
   "source": []
  },
  {
   "cell_type": "code",
   "execution_count": null,
   "id": "9d62ea67",
   "metadata": {},
   "outputs": [],
   "source": []
  },
  {
   "cell_type": "code",
   "execution_count": null,
   "id": "917d8392",
   "metadata": {},
   "outputs": [],
   "source": []
  },
  {
   "cell_type": "code",
   "execution_count": null,
   "id": "5265ed21",
   "metadata": {},
   "outputs": [],
   "source": []
  },
  {
   "cell_type": "code",
   "execution_count": null,
   "id": "e27c779a",
   "metadata": {},
   "outputs": [],
   "source": []
  },
  {
   "cell_type": "code",
   "execution_count": null,
   "id": "dd82f18d",
   "metadata": {},
   "outputs": [],
   "source": []
  },
  {
   "cell_type": "code",
   "execution_count": null,
   "id": "8e21f265",
   "metadata": {},
   "outputs": [],
   "source": []
  },
  {
   "cell_type": "code",
   "execution_count": null,
   "id": "df9246bc",
   "metadata": {},
   "outputs": [],
   "source": []
  },
  {
   "cell_type": "code",
   "execution_count": null,
   "id": "31cd498d",
   "metadata": {},
   "outputs": [],
   "source": []
  }
 ],
 "metadata": {
  "kernelspec": {
   "display_name": "Python 3 (ipykernel)",
   "language": "python",
   "name": "python3"
  },
  "language_info": {
   "codemirror_mode": {
    "name": "ipython",
    "version": 3
   },
   "file_extension": ".py",
   "mimetype": "text/x-python",
   "name": "python",
   "nbconvert_exporter": "python",
   "pygments_lexer": "ipython3",
   "version": "3.11.5"
  }
 },
 "nbformat": 4,
 "nbformat_minor": 5
}
